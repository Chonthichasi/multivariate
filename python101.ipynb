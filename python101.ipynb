{
  "nbformat": 4,
  "nbformat_minor": 0,
  "metadata": {
    "colab": {
      "name": "python101.ipynb",
      "provenance": [],
      "include_colab_link": true
    },
    "kernelspec": {
      "name": "python3",
      "display_name": "Python 3"
    }
  },
  "cells": [
    {
      "cell_type": "markdown",
      "metadata": {
        "id": "view-in-github",
        "colab_type": "text"
      },
      "source": [
        "<a href=\"https://colab.research.google.com/github/Chonthichasi/multivariate/blob/main/python101.ipynb\" target=\"_parent\"><img src=\"https://colab.research.google.com/assets/colab-badge.svg\" alt=\"Open In Colab\"/></a>"
      ]
    },
    {
      "cell_type": "code",
      "metadata": {
        "id": "_PyKFGwOLUZT"
      },
      "source": [
        "ตัวแปร variable"
      ],
      "execution_count": null,
      "outputs": []
    },
    {
      "cell_type": "markdown",
      "metadata": {
        "id": "hf41EVKaMmi2"
      },
      "source": [
        "หลักการตั้งชื่อให้ตัวแปลเบื้องต้น\r\n",
        "1.ตั้งให้สื่อ\r\n",
        "2.ภาษาอังกฤษ\r\n",
        "3.ใช้ตัวเลขได้แต่ต้องไม่ขึ้นชื่อด้วยตัวเลข\r\n",
        "4.ห้ามเว้นวรรค\r\n",
        "5.พิมพ์เล็กใหญ่ไม่เหมือนกัน\r\n",
        "\r\n",
        "มี output 2 mode : ออกหน้าจอ กับ เข้าไปเก็บในตัวแปร"
      ]
    },
    {
      "cell_type": "code",
      "metadata": {
        "colab": {
          "base_uri": "https://localhost:8080/"
        },
        "id": "40x3UrAzOEej",
        "outputId": "e74f90dc-da50-4c75-e272-b8007c90d435"
      },
      "source": [
        "3.14159 #hastagหรือshap # คือ comment  >>> อันนี้คือ output ที่ออกหน้าจอ (ถ้าเกิดมันออกจากหน้าจอมันก็จะไม่ถูกเก็บไว้ที่ไหนก็จะใช้ต่อไม่ได้ ต้องพิมพ์อีกครั้งนึง)"
      ],
      "execution_count": null,
      "outputs": [
        {
          "output_type": "execute_result",
          "data": {
            "text/plain": [
              "3.14159"
            ]
          },
          "metadata": {
            "tags": []
          },
          "execution_count": 1
        }
      ]
    },
    {
      "cell_type": "code",
      "metadata": {
        "id": "thr6AcduOp0q"
      },
      "source": [
        "Pi= 3.14159 # อันนี้คือ output ที่เข้าไปอยู่ในตัวแปร (สามารถเอาค่า Pi มาแสดงได้ ค่าจะอยู่ใน Pi ตลอดไปถ้าไม่เปลี่ยนค่ามัน )"
      ],
      "execution_count": null,
      "outputs": []
    },
    {
      "cell_type": "code",
      "metadata": {
        "colab": {
          "base_uri": "https://localhost:8080/"
        },
        "id": "7J6hTImxO872",
        "outputId": "1e3cfa2a-010e-4c25-9630-36a09d1c991a"
      },
      "source": [
        "Pi"
      ],
      "execution_count": null,
      "outputs": [
        {
          "output_type": "execute_result",
          "data": {
            "text/plain": [
              "3.14159"
            ]
          },
          "metadata": {
            "tags": []
          },
          "execution_count": 3
        }
      ]
    },
    {
      "cell_type": "code",
      "metadata": {
        "colab": {
          "base_uri": "https://localhost:8080/"
        },
        "id": "iMnBjCGwO_1A",
        "outputId": "81a39c5f-0198-4251-e523-1157c51cd15b"
      },
      "source": [
        "a=123456 # ใน cell สามารถมีได้หลายคำสั่งหากอยากโชว์ค่า a ใช้คำสั่ง print ซึ่งใน cell นี้ทำ 2 อย่าง 1.ตั้งตัวแปรชื่อ a แล้วเอาเลข 1234567 ใส่ในตัวแปร a  2. ให้แสดงผลค่า a โดยคำสั่ง print\r\n",
        "print(a)"
      ],
      "execution_count": null,
      "outputs": [
        {
          "output_type": "stream",
          "text": [
            "123456\n"
          ],
          "name": "stdout"
        }
      ]
    },
    {
      "cell_type": "markdown",
      "metadata": {
        "id": "bbX2cPUhPOUy"
      },
      "source": [
        "#ชนิดของตัวแปล 3ชนิด \r\n",
        "จำนวนเต็ม (integer,int)"
      ]
    },
    {
      "cell_type": "code",
      "metadata": {
        "colab": {
          "base_uri": "https://localhost:8080/"
        },
        "id": "K8OpaVkcPCSS",
        "outputId": "f7d10bfd-2de1-41f8-9b0e-2eab6b93c005"
      },
      "source": [
        "aaa=1092  # ตัวแปรที่เป็นจำนวนเต็ม(int)\r\n",
        "print(aaa)"
      ],
      "execution_count": 10,
      "outputs": [
        {
          "output_type": "stream",
          "text": [
            "1092\n"
          ],
          "name": "stdout"
        }
      ]
    },
    {
      "cell_type": "markdown",
      "metadata": {
        "id": "M60RTZSwPq8v"
      },
      "source": [
        "#จำนวนจริง (float)"
      ]
    },
    {
      "cell_type": "code",
      "metadata": {
        "colab": {
          "base_uri": "https://localhost:8080/"
        },
        "id": "nOC5lM2KPgXQ",
        "outputId": "aaf2f495-0ff0-4091-9f55-ecb352b46b27"
      },
      "source": [
        "bbb=11.  # วิธีการสร้าง float เมื่อเรามี \".\" มันก็คือจำนวนจริง\r\n",
        "print(bbb)"
      ],
      "execution_count": 25,
      "outputs": [
        {
          "output_type": "stream",
          "text": [
            "11.0\n"
          ],
          "name": "stdout"
        }
      ]
    },
    {
      "cell_type": "markdown",
      "metadata": {
        "id": "yvITbAu7QVb5"
      },
      "source": [
        "#ตัวอักษร-ข้อความ(charecter และ text,string)"
      ]
    },
    {
      "cell_type": "code",
      "metadata": {
        "colab": {
          "base_uri": "https://localhost:8080/"
        },
        "id": "Tz8wbSu0QL_E",
        "outputId": "a564ba28-c828-4fbb-c867-0ba60ffae5e4"
      },
      "source": [
        "ccc='123456'  # เราใช้ single quote ' หรือ double quote \" ล้อมรอบตัวหนังสือเพื่อระบุว่าเป็น character-string เป็นตัวอักษรใช้บวกลบคูณหารไม่ได้\r\n",
        "print(ccc)  # ตัว string ต้องมี code ล้อมรอบเพราะตัวแปรก็เป็นตัวอักษรเหมือนกันจะ"
      ],
      "execution_count": null,
      "outputs": [
        {
          "output_type": "stream",
          "text": [
            "123456\n"
          ],
          "name": "stdout"
        }
      ]
    },
    {
      "cell_type": "code",
      "metadata": {
        "colab": {
          "base_uri": "https://localhost:8080/"
        },
        "id": "NKyujS3yQv-w",
        "outputId": "9c55d4f0-8969-4277-90c9-5144b338cd1d"
      },
      "source": [
        "aaa+bbb  #float+int =float"
      ],
      "execution_count": null,
      "outputs": [
        {
          "output_type": "execute_result",
          "data": {
            "text/plain": [
              "1103.0"
            ]
          },
          "metadata": {
            "tags": []
          },
          "execution_count": 12
        }
      ]
    },
    {
      "cell_type": "code",
      "metadata": {
        "colab": {
          "base_uri": "https://localhost:8080/",
          "height": 162
        },
        "id": "Ei2oNx83Q0DB",
        "outputId": "aa263d46-e1f1-4aa3-bb89-f96fe3e930f8"
      },
      "source": [
        "bbb+ccc  # ที่บวกไม่ได้เพราะว่ามันเป็นตัวแปรคนละชนิดกัน  (ให้ดูที่ TypeError บรรทัดล่างซึ่งเราสามารถนำไปเสิช google ได้)"
      ],
      "execution_count": 18,
      "outputs": [
        {
          "output_type": "error",
          "ename": "NameError",
          "evalue": "ignored",
          "traceback": [
            "\u001b[0;31m---------------------------------------------------------------------------\u001b[0m",
            "\u001b[0;31mNameError\u001b[0m                                 Traceback (most recent call last)",
            "\u001b[0;32m<ipython-input-18-c95aa0bdc4a5>\u001b[0m in \u001b[0;36m<module>\u001b[0;34m()\u001b[0m\n\u001b[0;32m----> 1\u001b[0;31m \u001b[0mbbb\u001b[0m\u001b[0;34m+\u001b[0m\u001b[0mccc\u001b[0m\u001b[0;34m\u001b[0m\u001b[0;34m\u001b[0m\u001b[0m\n\u001b[0m",
            "\u001b[0;31mNameError\u001b[0m: name 'bbb' is not defined"
          ]
        }
      ]
    },
    {
      "cell_type": "code",
      "metadata": {
        "colab": {
          "base_uri": "https://localhost:8080/"
        },
        "id": "eCbsHNUCQ6hp",
        "outputId": "cab425ec-3f96-4223-b5cc-95e53e23ba06"
      },
      "source": [
        "ddd = ' ชลธิชา'  # ข้อดีคือข้อความสามารถพิมพ์ภาษาไทยได้\r\n",
        "print(ddd)"
      ],
      "execution_count": 12,
      "outputs": [
        {
          "output_type": "stream",
          "text": [
            " ชลธิชา\n"
          ],
          "name": "stdout"
        }
      ]
    },
    {
      "cell_type": "markdown",
      "metadata": {
        "id": "-Ixx33HbRc2H"
      },
      "source": [
        "#การเปลี่ยนชนิดของตัวแปร variable cating"
      ]
    },
    {
      "cell_type": "code",
      "metadata": {
        "colab": {
          "base_uri": "https://localhost:8080/",
          "height": 162
        },
        "id": "aIpcuUNqRY0X",
        "outputId": "31b541c0-99c2-452f-9088-8feb5f95e651"
      },
      "source": [
        "aaa + int(ccc)  # บังคับให้เป็นชนิดตัวแปรที่เราต้องการ เช่นให้เป็น int,float"
      ],
      "execution_count": 19,
      "outputs": [
        {
          "output_type": "error",
          "ename": "NameError",
          "evalue": "ignored",
          "traceback": [
            "\u001b[0;31m---------------------------------------------------------------------------\u001b[0m",
            "\u001b[0;31mNameError\u001b[0m                                 Traceback (most recent call last)",
            "\u001b[0;32m<ipython-input-19-1318468a2068>\u001b[0m in \u001b[0;36m<module>\u001b[0;34m()\u001b[0m\n\u001b[0;32m----> 1\u001b[0;31m \u001b[0maaa\u001b[0m \u001b[0;34m+\u001b[0m \u001b[0mint\u001b[0m\u001b[0;34m(\u001b[0m\u001b[0mccc\u001b[0m\u001b[0;34m)\u001b[0m\u001b[0;34m\u001b[0m\u001b[0;34m\u001b[0m\u001b[0m\n\u001b[0m",
            "\u001b[0;31mNameError\u001b[0m: name 'ccc' is not defined"
          ]
        }
      ]
    },
    {
      "cell_type": "code",
      "metadata": {
        "colab": {
          "base_uri": "https://localhost:8080/"
        },
        "id": "Px-uudKmRxm3",
        "outputId": "70e3094c-5f44-44f4-a558-8a4751deb9f7"
      },
      "source": [
        "aaa+float(ccc)  # float+int = float"
      ],
      "execution_count": null,
      "outputs": [
        {
          "output_type": "execute_result",
          "data": {
            "text/plain": [
              "124548.0"
            ]
          },
          "metadata": {
            "tags": []
          },
          "execution_count": 16
        }
      ]
    },
    {
      "cell_type": "code",
      "metadata": {
        "colab": {
          "base_uri": "https://localhost:8080/",
          "height": 35
        },
        "id": "R0SJDlXXR2--",
        "outputId": "f7224fc6-13d0-470d-8031-613ac31bea1d"
      },
      "source": [
        "str(aaa)   # int สามารถเปลี่ยนกลับไปเป็นข้อความได้ (การพิมพ์แบบนี้ทำได้เฉพาะตัวโน้ตบุ๊คคล้ายๆ colab ถ้ารวบรวมเป็นไฟล์จริงๆหากพิมพ์คำสั่งนี้ใน code จะไม่ทำไรเลยมันเป็นแค่เรียกชื่อตัวแปรเฉยๆ)"
      ],
      "execution_count": 14,
      "outputs": [
        {
          "output_type": "execute_result",
          "data": {
            "application/vnd.google.colaboratory.intrinsic+json": {
              "type": "string"
            },
            "text/plain": [
              "'1092'"
            ]
          },
          "metadata": {
            "tags": []
          },
          "execution_count": 14
        }
      ]
    },
    {
      "cell_type": "markdown",
      "metadata": {
        "id": "cn8qQxdjS_gG"
      },
      "source": [
        "#การดำเนินการ Operation (Operators +,-,*,/)"
      ]
    },
    {
      "cell_type": "code",
      "metadata": {
        "colab": {
          "base_uri": "https://localhost:8080/",
          "height": 162
        },
        "id": "j23Embs5SbZy",
        "outputId": "ca6d3d01-cc49-42f9-a408-6dacb3da6c9d"
      },
      "source": [
        "a+b  # error นี้บอกว่าตัวแปร b ไม่มีจึงบวกไม่ได้"
      ],
      "execution_count": 15,
      "outputs": [
        {
          "output_type": "error",
          "ename": "NameError",
          "evalue": "ignored",
          "traceback": [
            "\u001b[0;31m---------------------------------------------------------------------------\u001b[0m",
            "\u001b[0;31mNameError\u001b[0m                                 Traceback (most recent call last)",
            "\u001b[0;32m<ipython-input-15-ca730b97bf8a>\u001b[0m in \u001b[0;36m<module>\u001b[0;34m()\u001b[0m\n\u001b[0;32m----> 1\u001b[0;31m \u001b[0ma\u001b[0m\u001b[0;34m+\u001b[0m\u001b[0mb\u001b[0m\u001b[0;34m\u001b[0m\u001b[0;34m\u001b[0m\u001b[0m\n\u001b[0m",
            "\u001b[0;31mNameError\u001b[0m: name 'a' is not defined"
          ]
        }
      ]
    },
    {
      "cell_type": "code",
      "metadata": {
        "colab": {
          "base_uri": "https://localhost:8080/"
        },
        "id": "reiXNHAYSdrG",
        "outputId": "9050f008-b2a1-4155-8ef7-a8184c6b6f86"
      },
      "source": [
        "aaa+bbb  # output โชว์ออกมาอย่างเดียวเอาไปใช้ต่อไม่ได้ หากจะนำเอาไปใช้ต่อต้องมีตัวแปรมารับ"
      ],
      "execution_count": 26,
      "outputs": [
        {
          "output_type": "execute_result",
          "data": {
            "text/plain": [
              "1103.0"
            ]
          },
          "metadata": {
            "tags": []
          },
          "execution_count": 26
        }
      ]
    },
    {
      "cell_type": "code",
      "metadata": {
        "colab": {
          "base_uri": "https://localhost:8080/"
        },
        "id": "SLUHN3-OTDpi",
        "outputId": "68b77715-4457-4121-a97c-c9101e76217a"
      },
      "source": [
        "aaa-bbb"
      ],
      "execution_count": null,
      "outputs": [
        {
          "output_type": "execute_result",
          "data": {
            "text/plain": [
              "1081.0"
            ]
          },
          "metadata": {
            "tags": []
          },
          "execution_count": 21
        }
      ]
    },
    {
      "cell_type": "code",
      "metadata": {
        "id": "XA1e6ypETFaR"
      },
      "source": [
        "ab=aaa*bbb"
      ],
      "execution_count": null,
      "outputs": []
    },
    {
      "cell_type": "code",
      "metadata": {
        "colab": {
          "base_uri": "https://localhost:8080/"
        },
        "id": "luXwI4msTWFV",
        "outputId": "776882af-3fba-4465-af81-ac5fbae54dd0"
      },
      "source": [
        "ab+int(ccc)"
      ],
      "execution_count": null,
      "outputs": [
        {
          "output_type": "execute_result",
          "data": {
            "text/plain": [
              "135468.0"
            ]
          },
          "metadata": {
            "tags": []
          },
          "execution_count": 24
        }
      ]
    },
    {
      "cell_type": "markdown",
      "metadata": {
        "id": "zgaN3UCxTwWy"
      },
      "source": [
        "#% คือการหารเอาเศษเช่น5%3=2(ส่วนใหญ่ไว้เช็คว่าเป็นเลขคู่หรือคี่โดยการนำ2ไปหาร)"
      ]
    },
    {
      "cell_type": "code",
      "metadata": {
        "colab": {
          "base_uri": "https://localhost:8080/"
        },
        "id": "y9EXZs4bTshq",
        "outputId": "0430e3e1-8f57-4006-ab72-914c66d9ba30"
      },
      "source": [
        "5%3 # modulo คือหารเอาเศษ *จะได้ใช้บ่อย เช็คว่าเป็นตัวเลขคี่หรือคู่"
      ],
      "execution_count": null,
      "outputs": [
        {
          "output_type": "execute_result",
          "data": {
            "text/plain": [
              "2"
            ]
          },
          "metadata": {
            "tags": []
          },
          "execution_count": 25
        }
      ]
    },
    {
      "cell_type": "code",
      "metadata": {
        "colab": {
          "base_uri": "https://localhost:8080/"
        },
        "id": "cAWIr8oVUcv5",
        "outputId": "4220fd93-2dfc-4ede-b114-5e3cf25be3a3"
      },
      "source": [
        "7%3"
      ],
      "execution_count": null,
      "outputs": [
        {
          "output_type": "execute_result",
          "data": {
            "text/plain": [
              "1"
            ]
          },
          "metadata": {
            "tags": []
          },
          "execution_count": 26
        }
      ]
    },
    {
      "cell_type": "markdown",
      "metadata": {
        "id": "hXT1CTdiUgHV"
      },
      "source": [
        "#คำสั่งprint แบบพิเศษ (การใช้ format string)"
      ]
    },
    {
      "cell_type": "code",
      "metadata": {
        "colab": {
          "base_uri": "https://localhost:8080/"
        },
        "id": "Xwwe8ElcUeNk",
        "outputId": "cd9a4f5e-aebe-4258-d548-cd0416168277"
      },
      "source": [
        "print('ตัวแปร') #สิ่งที่อยู่ข้างในวงเล็บคือ ตัวแปร และ sting\r\n"
      ],
      "execution_count": null,
      "outputs": [
        {
          "output_type": "stream",
          "text": [
            "ตัวแปร\n"
          ],
          "name": "stdout"
        }
      ]
    },
    {
      "cell_type": "code",
      "metadata": {
        "id": "YYi-oUTjVJ8j"
      },
      "source": [
        "print(f'% คือการหารเอาเศษเช่น 7%3= {7%3}') #เพิ่มf หน้า 'string' และใช้{}ใส่code\r\n",
        "% คือการหารเอาเศษ เช่น 7%3 = 1"
      ],
      "execution_count": null,
      "outputs": []
    },
    {
      "cell_type": "code",
      "metadata": {
        "id": "7_1GsBEh1sGH",
        "outputId": "92809068-7e2e-407e-d097-b54a376c7cf3",
        "colab": {
          "base_uri": "https://localhost:8080/"
        }
      },
      "source": [
        "print(f'% คือการหารเอาเศษ เช่น 7%3 = {7%3} \\\r\n",
        "    แต่\\n/ คือการหารปกติ เช่น 7/3 = {7/3}  \\\r\n",
        "    และ\\n// คือการหารเอาส่วน เช่น 7//3 = {7//3} \\\r\n",
        "    หรือ\\nใช้ int() เพื่อหารเอาส่วน เช่น int(7/3) = {int(7/3)}') # \\n คือการขึ้นบรรทัดใหม่ \\ ใช้ในการตัด code แต่ com จะไม่เห็น"
      ],
      "execution_count": 4,
      "outputs": [
        {
          "output_type": "stream",
          "text": [
            "% คือการหารเอาเศษ เช่น 7%3 = 1     แต่\n",
            "/ คือการหารปกติ เช่น 7/3 = 2.3333333333333335      และ\n",
            "// คือการหารเอาส่วน เช่น 7//3 = 2     หรือ\n",
            "ใช้ int() เพื่อหารเอาส่วน เช่น int(7/3) = 2\n"
          ],
          "name": "stdout"
        }
      ]
    },
    {
      "cell_type": "markdown",
      "metadata": {
        "id": "I2ZjIF2p0px9"
      },
      "source": [
        "#DATA STRUCTURE (โครงสร้างข้อมูล)"
      ]
    },
    {
      "cell_type": "code",
      "metadata": {
        "id": "2II_iOIx00C6",
        "outputId": "92f49349-ff71-44e2-efd2-a572d3cbadaa",
        "colab": {
          "base_uri": "https://localhost:8080/"
        }
      },
      "source": [
        "[111,'c','งง',aaa]"
      ],
      "execution_count": 20,
      "outputs": [
        {
          "output_type": "execute_result",
          "data": {
            "text/plain": [
              "[111, 'c', 'งง', 1092]"
            ]
          },
          "metadata": {
            "tags": []
          },
          "execution_count": 20
        }
      ]
    },
    {
      "cell_type": "markdown",
      "metadata": {
        "id": "uheQ8mH315uM"
      },
      "source": [
        "### List คือ การเอาข้อมูลหลายๆตัวมาเรียงต่อกัน \r\n",
        "#### list สามารถสร้างได้ 2 แบบ ดังนี้"
      ]
    },
    {
      "cell_type": "markdown",
      "metadata": {
        "id": "1sZMSr4g2E_r"
      },
      "source": [
        "#### แบบที่1 > square brackets"
      ]
    },
    {
      "cell_type": "code",
      "metadata": {
        "id": "3WIZvNX_2GUU",
        "outputId": "776df327-8902-4dd7-ae36-e52a53b47029",
        "colab": {
          "base_uri": "https://localhost:8080/"
        }
      },
      "source": [
        "list_a = [] #list ว่าง\r\n",
        "print(list_a)"
      ],
      "execution_count": 5,
      "outputs": [
        {
          "output_type": "stream",
          "text": [
            "[]\n"
          ],
          "name": "stdout"
        }
      ]
    },
    {
      "cell_type": "code",
      "metadata": {
        "id": "ark3ulVi2PL_",
        "outputId": "a89768a8-f810-44bf-85a1-247b89bff3fe",
        "colab": {
          "base_uri": "https://localhost:8080/"
        }
      },
      "source": [
        "list_b = [111,'c','งง',aaa] # สามารถจัดกรุ๊ปตัวแปรหลายๆตัวมาอยู่รวมกัน\r\n",
        "print(list_b)"
      ],
      "execution_count": 21,
      "outputs": [
        {
          "output_type": "stream",
          "text": [
            "[111, 'c', 'งง', 1092]\n"
          ],
          "name": "stdout"
        }
      ]
    },
    {
      "cell_type": "markdown",
      "metadata": {
        "id": "3ZiqzeKR3qhR"
      },
      "source": [
        "### ลำดับที่อยู่ใน list มีความสำคัญ (ลำดับใน list เริ่มจาก 0,1,2,...) "
      ]
    },
    {
      "cell_type": "code",
      "metadata": {
        "id": "NmHF09QS2SWE",
        "outputId": "f53b79aa-4a86-4843-e35f-6b09a7e9e627",
        "colab": {
          "base_uri": "https://localhost:8080/",
          "height": 35
        }
      },
      "source": [
        "list_b[2]"
      ],
      "execution_count": 22,
      "outputs": [
        {
          "output_type": "execute_result",
          "data": {
            "application/vnd.google.colaboratory.intrinsic+json": {
              "type": "string"
            },
            "text/plain": [
              "'งง'"
            ]
          },
          "metadata": {
            "tags": []
          },
          "execution_count": 22
        }
      ]
    },
    {
      "cell_type": "markdown",
      "metadata": {
        "id": "SEvURujg5YM_"
      },
      "source": [
        "#### แบบที่2"
      ]
    },
    {
      "cell_type": "code",
      "metadata": {
        "id": "cGt8jHpr3vUA",
        "outputId": "eafd3042-fe0e-4110-bca4-5675186d018f",
        "colab": {
          "base_uri": "https://localhost:8080/"
        }
      },
      "source": [
        "list_c = list()\r\n",
        "print(list_c)"
      ],
      "execution_count": 27,
      "outputs": [
        {
          "output_type": "stream",
          "text": [
            "[]\n"
          ],
          "name": "stdout"
        }
      ]
    },
    {
      "cell_type": "markdown",
      "metadata": {
        "id": "eJtodotn5fZp"
      },
      "source": [
        "## append() เพิ่มสมาชิกใน list"
      ]
    },
    {
      "cell_type": "code",
      "metadata": {
        "id": "3Mz8iPeG5bTD",
        "outputId": "71698425-2943-4348-830f-febe81122885",
        "colab": {
          "base_uri": "https://localhost:8080/"
        }
      },
      "source": [
        "list_b.append('u') # ความสำคัญของลำดับตัวที่อยู่ก่อนจะเป็น 0\r\n",
        "print(list_b)"
      ],
      "execution_count": 28,
      "outputs": [
        {
          "output_type": "stream",
          "text": [
            "[111, 'c', 'งง', 1092, 'u']\n"
          ],
          "name": "stdout"
        }
      ]
    },
    {
      "cell_type": "markdown",
      "metadata": {
        "id": "K2XKY33k5n9n"
      },
      "source": [
        "ตัวที่อยู่ในวงเล็บหลังจากตัวแปร list เรียกว่า index ใช้สำหรับชี้ข้อมูลใน list \r\n",
        "\r\n",
        "(ชี้จากข้างหน้า,ชี้จากข้างหลัง)\r\n",
        "\r\n",
        "0 คือสมาชิกตัวแรก , -1 คือสมาชิกตัวสุดท้าย"
      ]
    },
    {
      "cell_type": "code",
      "metadata": {
        "id": "ZcxSNfT55jQa",
        "outputId": "f4c892a7-7744-4789-967a-06fe0f58d531",
        "colab": {
          "base_uri": "https://localhost:8080/",
          "height": 35
        }
      },
      "source": [
        "list_b[-1]  "
      ],
      "execution_count": 29,
      "outputs": [
        {
          "output_type": "execute_result",
          "data": {
            "application/vnd.google.colaboratory.intrinsic+json": {
              "type": "string"
            },
            "text/plain": [
              "'u'"
            ]
          },
          "metadata": {
            "tags": []
          },
          "execution_count": 29
        }
      ]
    },
    {
      "cell_type": "markdown",
      "metadata": {
        "id": "xD2POQh35wx3"
      },
      "source": [
        "## String > list of characters"
      ]
    },
    {
      "cell_type": "code",
      "metadata": {
        "id": "Ep0J5DCR5sXK",
        "outputId": "caa1d059-b613-4e7c-9e77-0365e79c7aea",
        "colab": {
          "base_uri": "https://localhost:8080/"
        }
      },
      "source": [
        "t = 'python is easy' # (ตัวแปร t) สามารถชี้ไปที่ตัวอักษรแต่ละตัวที่ list นี้ได้เช่นกัน\r\n",
        "print(t)"
      ],
      "execution_count": 30,
      "outputs": [
        {
          "output_type": "stream",
          "text": [
            "python is easy\n"
          ],
          "name": "stdout"
        }
      ]
    },
    {
      "cell_type": "code",
      "metadata": {
        "id": "JNbwBRPO50bE",
        "outputId": "a57fb0de-e759-45bc-eb7c-b86ff2687b86",
        "colab": {
          "base_uri": "https://localhost:8080/",
          "height": 35
        }
      },
      "source": [
        "t[1]"
      ],
      "execution_count": 31,
      "outputs": [
        {
          "output_type": "execute_result",
          "data": {
            "application/vnd.google.colaboratory.intrinsic+json": {
              "type": "string"
            },
            "text/plain": [
              "'y'"
            ]
          },
          "metadata": {
            "tags": []
          },
          "execution_count": 31
        }
      ]
    },
    {
      "cell_type": "code",
      "metadata": {
        "id": "ISH7Pq5t53nk",
        "outputId": "c7ba21e4-88a6-4411-9979-62662ffae887",
        "colab": {
          "base_uri": "https://localhost:8080/",
          "height": 35
        }
      },
      "source": [
        "t[-4]"
      ],
      "execution_count": 32,
      "outputs": [
        {
          "output_type": "execute_result",
          "data": {
            "application/vnd.google.colaboratory.intrinsic+json": {
              "type": "string"
            },
            "text/plain": [
              "'e'"
            ]
          },
          "metadata": {
            "tags": []
          },
          "execution_count": 32
        }
      ]
    },
    {
      "cell_type": "code",
      "metadata": {
        "id": "WK2OYM5F56gz",
        "outputId": "bf887acf-09c9-418f-98e6-4da7317fa43f",
        "colab": {
          "base_uri": "https://localhost:8080/",
          "height": 35
        }
      },
      "source": [
        "t[6]"
      ],
      "execution_count": 33,
      "outputs": [
        {
          "output_type": "execute_result",
          "data": {
            "application/vnd.google.colaboratory.intrinsic+json": {
              "type": "string"
            },
            "text/plain": [
              "' '"
            ]
          },
          "metadata": {
            "tags": []
          },
          "execution_count": 33
        }
      ]
    },
    {
      "cell_type": "markdown",
      "metadata": {
        "id": "ACxjsD3m6B_i"
      },
      "source": [
        "## จบ 5 มค 2021"
      ]
    }
  ]
}