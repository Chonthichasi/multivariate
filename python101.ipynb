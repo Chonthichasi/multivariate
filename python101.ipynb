{
  "nbformat": 4,
  "nbformat_minor": 0,
  "metadata": {
    "colab": {
      "name": "python101.ipynb",
      "provenance": [],
      "include_colab_link": true
    },
    "kernelspec": {
      "name": "python3",
      "display_name": "Python 3"
    }
  },
  "cells": [
    {
      "cell_type": "markdown",
      "metadata": {
        "id": "view-in-github",
        "colab_type": "text"
      },
      "source": [
        "<a href=\"https://colab.research.google.com/github/Chonthichasi/multivariate/blob/main/python101.ipynb\" target=\"_parent\"><img src=\"https://colab.research.google.com/assets/colab-badge.svg\" alt=\"Open In Colab\"/></a>"
      ]
    },
    {
      "cell_type": "markdown",
      "metadata": {
        "id": "4nmHMZz1kseO"
      },
      "source": [
        "ตัวแปร variable"
      ]
    },
    {
      "cell_type": "markdown",
      "metadata": {
        "id": "hf41EVKaMmi2"
      },
      "source": [
        "หลักการตั้งชื่อให้ตัวแปลเบื้องต้น\r\n",
        "1.ตั้งให้สื่อ\r\n",
        "2.ภาษาอังกฤษ\r\n",
        "3.ใช้ตัวเลขได้แต่ต้องไม่ขึ้นชื่อด้วยตัวเลข\r\n",
        "4.ห้ามเว้นวรรค\r\n",
        "5.พิมพ์เล็กใหญ่ไม่เหมือนกัน\r\n",
        "\r\n",
        "มี output 2 mode : ออกหน้าจอ กับ เข้าไปเก็บในตัวแปร"
      ]
    },
    {
      "cell_type": "code",
      "metadata": {
        "colab": {
          "base_uri": "https://localhost:8080/"
        },
        "id": "40x3UrAzOEej",
        "outputId": "e5cfad4b-01fc-4775-b699-12b55fb22e5d"
      },
      "source": [
        "3.14159 #hastagหรือshap # คือ comment  >>> อันนี้คือ output ที่ออกหน้าจอ (ถ้าเกิดมันออกจากหน้าจอมันก็จะไม่ถูกเก็บไว้ที่ไหนก็จะใช้ต่อไม่ได้ ต้องพิมพ์อีกครั้งนึง)"
      ],
      "execution_count": 31,
      "outputs": [
        {
          "output_type": "execute_result",
          "data": {
            "text/plain": [
              "3.14159"
            ]
          },
          "metadata": {
            "tags": []
          },
          "execution_count": 31
        }
      ]
    },
    {
      "cell_type": "code",
      "metadata": {
        "id": "thr6AcduOp0q"
      },
      "source": [
        "Pi= 3.14159 # อันนี้คือ output ที่เข้าไปอยู่ในตัวแปร (สามารถเอาค่า Pi มาแสดงได้ ค่าจะอยู่ใน Pi ตลอดไปถ้าไม่เปลี่ยนค่ามัน )"
      ],
      "execution_count": 32,
      "outputs": []
    },
    {
      "cell_type": "code",
      "metadata": {
        "colab": {
          "base_uri": "https://localhost:8080/"
        },
        "id": "7J6hTImxO872",
        "outputId": "bcb02cb2-b73b-4b3c-d46e-54afa04bb770"
      },
      "source": [
        "Pi"
      ],
      "execution_count": 33,
      "outputs": [
        {
          "output_type": "execute_result",
          "data": {
            "text/plain": [
              "3.14159"
            ]
          },
          "metadata": {
            "tags": []
          },
          "execution_count": 33
        }
      ]
    },
    {
      "cell_type": "code",
      "metadata": {
        "colab": {
          "base_uri": "https://localhost:8080/"
        },
        "id": "iMnBjCGwO_1A",
        "outputId": "d134aaa4-d536-4483-8195-42963404b68c"
      },
      "source": [
        "a=123456 # ใน cell สามารถมีได้หลายคำสั่งหากอยากโชว์ค่า a ใช้คำสั่ง print ซึ่งใน cell นี้ทำ 2 อย่าง 1.ตั้งตัวแปรชื่อ a แล้วเอาเลข 1234567 ใส่ในตัวแปร a  2. ให้แสดงผลค่า a โดยคำสั่ง print\r\n",
        "print(a)"
      ],
      "execution_count": 34,
      "outputs": [
        {
          "output_type": "stream",
          "text": [
            "123456\n"
          ],
          "name": "stdout"
        }
      ]
    },
    {
      "cell_type": "markdown",
      "metadata": {
        "id": "bbX2cPUhPOUy"
      },
      "source": [
        "#ชนิดของตัวแปล 3ชนิด \r\n",
        "จำนวนเต็ม (integer,int)"
      ]
    },
    {
      "cell_type": "code",
      "metadata": {
        "colab": {
          "base_uri": "https://localhost:8080/"
        },
        "id": "K8OpaVkcPCSS",
        "outputId": "24e7bdec-9535-4661-e200-58f6b2590ca6"
      },
      "source": [
        "aaa=1092  # ตัวแปรที่เป็นจำนวนเต็ม(int)\r\n",
        "print(aaa)"
      ],
      "execution_count": 35,
      "outputs": [
        {
          "output_type": "stream",
          "text": [
            "1092\n"
          ],
          "name": "stdout"
        }
      ]
    },
    {
      "cell_type": "markdown",
      "metadata": {
        "id": "M60RTZSwPq8v"
      },
      "source": [
        "#จำนวนจริง (float)"
      ]
    },
    {
      "cell_type": "code",
      "metadata": {
        "colab": {
          "base_uri": "https://localhost:8080/"
        },
        "id": "nOC5lM2KPgXQ",
        "outputId": "1552005c-6559-4fee-f0d5-3b253ce02ae0"
      },
      "source": [
        "bbb=11.  # วิธีการสร้าง float เมื่อเรามี \".\" มันก็คือจำนวนจริง\r\n",
        "print(bbb)"
      ],
      "execution_count": 36,
      "outputs": [
        {
          "output_type": "stream",
          "text": [
            "11.0\n"
          ],
          "name": "stdout"
        }
      ]
    },
    {
      "cell_type": "markdown",
      "metadata": {
        "id": "yvITbAu7QVb5"
      },
      "source": [
        "#ตัวอักษร-ข้อความ(charecter และ text,string)"
      ]
    },
    {
      "cell_type": "code",
      "metadata": {
        "colab": {
          "base_uri": "https://localhost:8080/"
        },
        "id": "Tz8wbSu0QL_E",
        "outputId": "cfca46b7-2d91-4553-e11a-a2832216b5ec"
      },
      "source": [
        "ccc='123456'  # เราใช้ single quote ' หรือ double quote \" ล้อมรอบตัวหนังสือเพื่อระบุว่าเป็น character-string เป็นตัวอักษรใช้บวกลบคูณหารไม่ได้\r\n",
        "print(ccc)  # ตัว string ต้องมี code ล้อมรอบเพราะตัวแปรก็เป็นตัวอักษรเหมือนกันจะ"
      ],
      "execution_count": 37,
      "outputs": [
        {
          "output_type": "stream",
          "text": [
            "123456\n"
          ],
          "name": "stdout"
        }
      ]
    },
    {
      "cell_type": "code",
      "metadata": {
        "colab": {
          "base_uri": "https://localhost:8080/"
        },
        "id": "NKyujS3yQv-w",
        "outputId": "b7396b86-57c7-4371-f679-1a0fb52c89f2"
      },
      "source": [
        "aaa+bbb  #float+int =float"
      ],
      "execution_count": 38,
      "outputs": [
        {
          "output_type": "execute_result",
          "data": {
            "text/plain": [
              "1103.0"
            ]
          },
          "metadata": {
            "tags": []
          },
          "execution_count": 38
        }
      ]
    },
    {
      "cell_type": "code",
      "metadata": {
        "colab": {
          "base_uri": "https://localhost:8080/",
          "height": 162
        },
        "id": "Ei2oNx83Q0DB",
        "outputId": "da82a9ca-e367-477f-87d5-c23bf7ffc665"
      },
      "source": [
        "bbb+ccc  # ที่บวกไม่ได้เพราะว่ามันเป็นตัวแปรคนละชนิดกัน  (ให้ดูที่ TypeError บรรทัดล่างซึ่งเราสามารถนำไปเสิช google ได้)"
      ],
      "execution_count": 39,
      "outputs": [
        {
          "output_type": "error",
          "ename": "TypeError",
          "evalue": "ignored",
          "traceback": [
            "\u001b[0;31m---------------------------------------------------------------------------\u001b[0m",
            "\u001b[0;31mTypeError\u001b[0m                                 Traceback (most recent call last)",
            "\u001b[0;32m<ipython-input-39-b97bd46c032a>\u001b[0m in \u001b[0;36m<module>\u001b[0;34m()\u001b[0m\n\u001b[0;32m----> 1\u001b[0;31m \u001b[0mbbb\u001b[0m\u001b[0;34m+\u001b[0m\u001b[0mccc\u001b[0m  \u001b[0;31m# ที่บวกไม่ได้เพราะว่ามันเป็นตัวแปรคนละชนิดกัน  (ให้ดูที่ TypeError บรรทัดล่างซึ่งเราสามารถนำไปเสิช google ได้)\u001b[0m\u001b[0;34m\u001b[0m\u001b[0;34m\u001b[0m\u001b[0m\n\u001b[0m",
            "\u001b[0;31mTypeError\u001b[0m: unsupported operand type(s) for +: 'float' and 'str'"
          ]
        }
      ]
    },
    {
      "cell_type": "code",
      "metadata": {
        "colab": {
          "base_uri": "https://localhost:8080/"
        },
        "id": "eCbsHNUCQ6hp",
        "outputId": "7cefed76-1f53-42e4-c197-bc56f3bb2d26"
      },
      "source": [
        "ddd = ' ชลธิชา'  # ข้อดีคือข้อความสามารถพิมพ์ภาษาไทยได้\r\n",
        "print(ddd)"
      ],
      "execution_count": 40,
      "outputs": [
        {
          "output_type": "stream",
          "text": [
            " ชลธิชา\n"
          ],
          "name": "stdout"
        }
      ]
    },
    {
      "cell_type": "markdown",
      "metadata": {
        "id": "-Ixx33HbRc2H"
      },
      "source": [
        "#การเปลี่ยนชนิดของตัวแปร variable cating"
      ]
    },
    {
      "cell_type": "code",
      "metadata": {
        "colab": {
          "base_uri": "https://localhost:8080/"
        },
        "id": "aIpcuUNqRY0X",
        "outputId": "c4d3a13c-f5c3-4533-fd60-4bbefcfd2563"
      },
      "source": [
        "aaa + int(ccc)  # บังคับให้เป็นชนิดตัวแปรที่เราต้องการ เช่นให้เป็น int,float"
      ],
      "execution_count": 41,
      "outputs": [
        {
          "output_type": "execute_result",
          "data": {
            "text/plain": [
              "124548"
            ]
          },
          "metadata": {
            "tags": []
          },
          "execution_count": 41
        }
      ]
    },
    {
      "cell_type": "code",
      "metadata": {
        "colab": {
          "base_uri": "https://localhost:8080/"
        },
        "id": "Px-uudKmRxm3",
        "outputId": "c2aada9b-fb9f-4f5e-8815-03c138b1cc71"
      },
      "source": [
        "aaa+float(ccc)  # float+int = float"
      ],
      "execution_count": 42,
      "outputs": [
        {
          "output_type": "execute_result",
          "data": {
            "text/plain": [
              "124548.0"
            ]
          },
          "metadata": {
            "tags": []
          },
          "execution_count": 42
        }
      ]
    },
    {
      "cell_type": "code",
      "metadata": {
        "colab": {
          "base_uri": "https://localhost:8080/",
          "height": 35
        },
        "id": "R0SJDlXXR2--",
        "outputId": "294a0ccc-50d6-461b-f3f1-a568d72f31aa"
      },
      "source": [
        "str(aaa)   # int สามารถเปลี่ยนกลับไปเป็นข้อความได้ (การพิมพ์แบบนี้ทำได้เฉพาะตัวโน้ตบุ๊คคล้ายๆ colab ถ้ารวบรวมเป็นไฟล์จริงๆหากพิมพ์คำสั่งนี้ใน code จะไม่ทำไรเลยมันเป็นแค่เรียกชื่อตัวแปรเฉยๆ)"
      ],
      "execution_count": 43,
      "outputs": [
        {
          "output_type": "execute_result",
          "data": {
            "application/vnd.google.colaboratory.intrinsic+json": {
              "type": "string"
            },
            "text/plain": [
              "'1092'"
            ]
          },
          "metadata": {
            "tags": []
          },
          "execution_count": 43
        }
      ]
    },
    {
      "cell_type": "markdown",
      "metadata": {
        "id": "cn8qQxdjS_gG"
      },
      "source": [
        "#การดำเนินการ Operation (Operators +,-,*,/)"
      ]
    },
    {
      "cell_type": "code",
      "metadata": {
        "colab": {
          "base_uri": "https://localhost:8080/",
          "height": 162
        },
        "id": "j23Embs5SbZy",
        "outputId": "28022db8-5b9e-48c2-ef15-68cd11b849f6"
      },
      "source": [
        "a+b  # error นี้บอกว่าตัวแปร b ไม่มีจึงบวกไม่ได้"
      ],
      "execution_count": 44,
      "outputs": [
        {
          "output_type": "error",
          "ename": "NameError",
          "evalue": "ignored",
          "traceback": [
            "\u001b[0;31m---------------------------------------------------------------------------\u001b[0m",
            "\u001b[0;31mNameError\u001b[0m                                 Traceback (most recent call last)",
            "\u001b[0;32m<ipython-input-44-072b564e842e>\u001b[0m in \u001b[0;36m<module>\u001b[0;34m()\u001b[0m\n\u001b[0;32m----> 1\u001b[0;31m \u001b[0ma\u001b[0m\u001b[0;34m+\u001b[0m\u001b[0mb\u001b[0m  \u001b[0;31m# error นี้บอกว่าตัวแปร b ไม่มีจึงบวกไม่ได้\u001b[0m\u001b[0;34m\u001b[0m\u001b[0;34m\u001b[0m\u001b[0m\n\u001b[0m",
            "\u001b[0;31mNameError\u001b[0m: name 'b' is not defined"
          ]
        }
      ]
    },
    {
      "cell_type": "code",
      "metadata": {
        "colab": {
          "base_uri": "https://localhost:8080/"
        },
        "id": "reiXNHAYSdrG",
        "outputId": "bb971c52-7c2a-440d-a61d-3d9907a8ae10"
      },
      "source": [
        "aaa+bbb  # output โชว์ออกมาอย่างเดียวเอาไปใช้ต่อไม่ได้ หากจะนำเอาไปใช้ต่อต้องมีตัวแปรมารับ"
      ],
      "execution_count": 45,
      "outputs": [
        {
          "output_type": "execute_result",
          "data": {
            "text/plain": [
              "1103.0"
            ]
          },
          "metadata": {
            "tags": []
          },
          "execution_count": 45
        }
      ]
    },
    {
      "cell_type": "code",
      "metadata": {
        "colab": {
          "base_uri": "https://localhost:8080/"
        },
        "id": "SLUHN3-OTDpi",
        "outputId": "2bdb7772-af03-4294-c9af-ae87aafa25e1"
      },
      "source": [
        "aaa-bbb"
      ],
      "execution_count": 46,
      "outputs": [
        {
          "output_type": "execute_result",
          "data": {
            "text/plain": [
              "1081.0"
            ]
          },
          "metadata": {
            "tags": []
          },
          "execution_count": 46
        }
      ]
    },
    {
      "cell_type": "code",
      "metadata": {
        "id": "XA1e6ypETFaR"
      },
      "source": [
        "ab=aaa*bbb"
      ],
      "execution_count": 47,
      "outputs": []
    },
    {
      "cell_type": "code",
      "metadata": {
        "colab": {
          "base_uri": "https://localhost:8080/"
        },
        "id": "luXwI4msTWFV",
        "outputId": "a1b31eb2-6b5b-447c-bee1-2eda9f016f1a"
      },
      "source": [
        "ab+int(ccc)"
      ],
      "execution_count": 48,
      "outputs": [
        {
          "output_type": "execute_result",
          "data": {
            "text/plain": [
              "135468.0"
            ]
          },
          "metadata": {
            "tags": []
          },
          "execution_count": 48
        }
      ]
    },
    {
      "cell_type": "markdown",
      "metadata": {
        "id": "zgaN3UCxTwWy"
      },
      "source": [
        "#% คือการหารเอาเศษเช่น5%3=2(ส่วนใหญ่ไว้เช็คว่าเป็นเลขคู่หรือคี่โดยการนำ2ไปหาร)"
      ]
    },
    {
      "cell_type": "code",
      "metadata": {
        "colab": {
          "base_uri": "https://localhost:8080/"
        },
        "id": "y9EXZs4bTshq",
        "outputId": "33aef6fa-525e-41d9-dc1a-a414bcc82a88"
      },
      "source": [
        "5%3 # modulo คือหารเอาเศษ *จะได้ใช้บ่อย เช็คว่าเป็นตัวเลขคี่หรือคู่"
      ],
      "execution_count": 49,
      "outputs": [
        {
          "output_type": "execute_result",
          "data": {
            "text/plain": [
              "2"
            ]
          },
          "metadata": {
            "tags": []
          },
          "execution_count": 49
        }
      ]
    },
    {
      "cell_type": "code",
      "metadata": {
        "colab": {
          "base_uri": "https://localhost:8080/"
        },
        "id": "cAWIr8oVUcv5",
        "outputId": "085b7960-d14d-4a76-e2df-17098edcaa27"
      },
      "source": [
        "7%3"
      ],
      "execution_count": 50,
      "outputs": [
        {
          "output_type": "execute_result",
          "data": {
            "text/plain": [
              "1"
            ]
          },
          "metadata": {
            "tags": []
          },
          "execution_count": 50
        }
      ]
    },
    {
      "cell_type": "markdown",
      "metadata": {
        "id": "hXT1CTdiUgHV"
      },
      "source": [
        "#คำสั่งprint แบบพิเศษ (การใช้ format string)"
      ]
    },
    {
      "cell_type": "code",
      "metadata": {
        "colab": {
          "base_uri": "https://localhost:8080/"
        },
        "id": "Xwwe8ElcUeNk",
        "outputId": "00bee90c-ac4b-4efb-fb32-ed9f70794d2f"
      },
      "source": [
        "print('ตัวแปร') #สิ่งที่อยู่ข้างในวงเล็บคือ ตัวแปร และ sting\r\n"
      ],
      "execution_count": 51,
      "outputs": [
        {
          "output_type": "stream",
          "text": [
            "ตัวแปร\n"
          ],
          "name": "stdout"
        }
      ]
    },
    {
      "cell_type": "code",
      "metadata": {
        "id": "YYi-oUTjVJ8j",
        "outputId": "5dbde1b0-305d-4512-d2f0-38667126196c",
        "colab": {
          "base_uri": "https://localhost:8080/"
        }
      },
      "source": [
        "print(f'% คือการหารเอาเศษเช่น 7%3= {7%3}') #เพิ่มf หน้า 'string' และใช้{}ใส่code\r\n",
        "% คือการหารเอาเศษ เช่น 7%3 = 1"
      ],
      "execution_count": 52,
      "outputs": [
        {
          "output_type": "stream",
          "text": [
            "% คือการหารเอาเศษเช่น 7%3= 1\n"
          ],
          "name": "stdout"
        },
        {
          "output_type": "stream",
          "text": [
            "UsageError: Line magic function `%ค` not found.\n"
          ],
          "name": "stderr"
        }
      ]
    },
    {
      "cell_type": "code",
      "metadata": {
        "id": "7_1GsBEh1sGH",
        "colab": {
          "base_uri": "https://localhost:8080/"
        },
        "outputId": "c93d7ca5-f938-4075-ed70-26a7f3c9041a"
      },
      "source": [
        "print(f'% คือการหารเอาเศษ เช่น 7%3 = {7%3} \\\r\n",
        "    แต่\\n/ คือการหารปกติ เช่น 7/3 = {7/3}  \\\r\n",
        "    และ\\n// คือการหารเอาส่วน เช่น 7//3 = {7//3} \\\r\n",
        "    หรือ\\nใช้ int() เพื่อหารเอาส่วน เช่น int(7/3) = {int(7/3)}') # \\n คือการขึ้นบรรทัดใหม่ \\ ใช้ในการตัด code แต่ com จะไม่เห็น"
      ],
      "execution_count": 53,
      "outputs": [
        {
          "output_type": "stream",
          "text": [
            "% คือการหารเอาเศษ เช่น 7%3 = 1     แต่\n",
            "/ คือการหารปกติ เช่น 7/3 = 2.3333333333333335      และ\n",
            "// คือการหารเอาส่วน เช่น 7//3 = 2     หรือ\n",
            "ใช้ int() เพื่อหารเอาส่วน เช่น int(7/3) = 2\n"
          ],
          "name": "stdout"
        }
      ]
    },
    {
      "cell_type": "markdown",
      "metadata": {
        "id": "I2ZjIF2p0px9"
      },
      "source": [
        "#DATA STRUCTURE (โครงสร้างข้อมูล)"
      ]
    },
    {
      "cell_type": "code",
      "metadata": {
        "id": "2II_iOIx00C6",
        "colab": {
          "base_uri": "https://localhost:8080/"
        },
        "outputId": "5e79bdff-3be0-42d8-eac5-976618e6506b"
      },
      "source": [
        "[111,'c','งง',aaa]"
      ],
      "execution_count": 54,
      "outputs": [
        {
          "output_type": "execute_result",
          "data": {
            "text/plain": [
              "[111, 'c', 'งง', 1092]"
            ]
          },
          "metadata": {
            "tags": []
          },
          "execution_count": 54
        }
      ]
    },
    {
      "cell_type": "markdown",
      "metadata": {
        "id": "uheQ8mH315uM"
      },
      "source": [
        "### List คือ การเอาข้อมูลหลายๆตัวมาเรียงต่อกัน \r\n",
        "#### list สามารถสร้างได้ 2 แบบ ดังนี้"
      ]
    },
    {
      "cell_type": "markdown",
      "metadata": {
        "id": "1sZMSr4g2E_r"
      },
      "source": [
        "#### แบบที่1 > square brackets"
      ]
    },
    {
      "cell_type": "code",
      "metadata": {
        "id": "3WIZvNX_2GUU",
        "colab": {
          "base_uri": "https://localhost:8080/"
        },
        "outputId": "0b585986-734f-4464-f5de-2cbb39be025a"
      },
      "source": [
        "list_a = [] #list ว่าง\r\n",
        "print(list_a)"
      ],
      "execution_count": 55,
      "outputs": [
        {
          "output_type": "stream",
          "text": [
            "[]\n"
          ],
          "name": "stdout"
        }
      ]
    },
    {
      "cell_type": "code",
      "metadata": {
        "id": "ark3ulVi2PL_",
        "colab": {
          "base_uri": "https://localhost:8080/"
        },
        "outputId": "1306e9a8-bf24-4cc2-9c5b-b480005d675f"
      },
      "source": [
        "list_b = [111,'c','งง',aaa] # สามารถจัดกรุ๊ปตัวแปรหลายๆตัวมาอยู่รวมกัน\r\n",
        "print(list_b)"
      ],
      "execution_count": 56,
      "outputs": [
        {
          "output_type": "stream",
          "text": [
            "[111, 'c', 'งง', 1092]\n"
          ],
          "name": "stdout"
        }
      ]
    },
    {
      "cell_type": "markdown",
      "metadata": {
        "id": "3ZiqzeKR3qhR"
      },
      "source": [
        "### ลำดับที่อยู่ใน list มีความสำคัญ (ลำดับใน list เริ่มจาก 0,1,2,...) "
      ]
    },
    {
      "cell_type": "code",
      "metadata": {
        "id": "NmHF09QS2SWE",
        "colab": {
          "base_uri": "https://localhost:8080/",
          "height": 35
        },
        "outputId": "73b5574c-8cee-4af7-8b46-432815c4ace3"
      },
      "source": [
        "list_b[2]"
      ],
      "execution_count": 57,
      "outputs": [
        {
          "output_type": "execute_result",
          "data": {
            "application/vnd.google.colaboratory.intrinsic+json": {
              "type": "string"
            },
            "text/plain": [
              "'งง'"
            ]
          },
          "metadata": {
            "tags": []
          },
          "execution_count": 57
        }
      ]
    },
    {
      "cell_type": "markdown",
      "metadata": {
        "id": "SEvURujg5YM_"
      },
      "source": [
        "#### แบบที่2"
      ]
    },
    {
      "cell_type": "code",
      "metadata": {
        "id": "cGt8jHpr3vUA",
        "colab": {
          "base_uri": "https://localhost:8080/"
        },
        "outputId": "29bd6da6-23a5-4ec3-a765-4bd66e019cbf"
      },
      "source": [
        "list_c = list()\r\n",
        "print(list_c)"
      ],
      "execution_count": 58,
      "outputs": [
        {
          "output_type": "stream",
          "text": [
            "[]\n"
          ],
          "name": "stdout"
        }
      ]
    },
    {
      "cell_type": "markdown",
      "metadata": {
        "id": "eJtodotn5fZp"
      },
      "source": [
        "## append() เพิ่มสมาชิกใน list"
      ]
    },
    {
      "cell_type": "code",
      "metadata": {
        "id": "3Mz8iPeG5bTD",
        "colab": {
          "base_uri": "https://localhost:8080/"
        },
        "outputId": "fd49ab27-6775-4390-b0ba-ec29f06114fe"
      },
      "source": [
        "list_b.append('u') # ความสำคัญของลำดับตัวที่อยู่ก่อนจะเป็น 0\r\n",
        "print(list_b)"
      ],
      "execution_count": 59,
      "outputs": [
        {
          "output_type": "stream",
          "text": [
            "[111, 'c', 'งง', 1092, 'u']\n"
          ],
          "name": "stdout"
        }
      ]
    },
    {
      "cell_type": "markdown",
      "metadata": {
        "id": "K2XKY33k5n9n"
      },
      "source": [
        "ตัวที่อยู่ในวงเล็บหลังจากตัวแปร list เรียกว่า index ใช้สำหรับชี้ข้อมูลใน list \r\n",
        "\r\n",
        "(ชี้จากข้างหน้า,ชี้จากข้างหลัง)\r\n",
        "\r\n",
        "0 คือสมาชิกตัวแรก , -1 คือสมาชิกตัวสุดท้าย"
      ]
    },
    {
      "cell_type": "code",
      "metadata": {
        "id": "ZcxSNfT55jQa",
        "colab": {
          "base_uri": "https://localhost:8080/",
          "height": 35
        },
        "outputId": "2201e855-2c17-418c-dc0e-98535b19a6e4"
      },
      "source": [
        "list_b[-1]  "
      ],
      "execution_count": 60,
      "outputs": [
        {
          "output_type": "execute_result",
          "data": {
            "application/vnd.google.colaboratory.intrinsic+json": {
              "type": "string"
            },
            "text/plain": [
              "'u'"
            ]
          },
          "metadata": {
            "tags": []
          },
          "execution_count": 60
        }
      ]
    },
    {
      "cell_type": "markdown",
      "metadata": {
        "id": "xD2POQh35wx3"
      },
      "source": [
        "## String > list of characters"
      ]
    },
    {
      "cell_type": "code",
      "metadata": {
        "id": "Ep0J5DCR5sXK",
        "colab": {
          "base_uri": "https://localhost:8080/"
        },
        "outputId": "6062ac99-0881-4625-e345-745d972a71b1"
      },
      "source": [
        "t = 'python is easy' # (ตัวแปร t) สามารถชี้ไปที่ตัวอักษรแต่ละตัวที่ list นี้ได้เช่นกัน\r\n",
        "print(t)"
      ],
      "execution_count": 61,
      "outputs": [
        {
          "output_type": "stream",
          "text": [
            "python is easy\n"
          ],
          "name": "stdout"
        }
      ]
    },
    {
      "cell_type": "code",
      "metadata": {
        "id": "JNbwBRPO50bE",
        "colab": {
          "base_uri": "https://localhost:8080/",
          "height": 35
        },
        "outputId": "c764b4fa-8cae-40a5-c534-20c1a8e82676"
      },
      "source": [
        "t[1]"
      ],
      "execution_count": 62,
      "outputs": [
        {
          "output_type": "execute_result",
          "data": {
            "application/vnd.google.colaboratory.intrinsic+json": {
              "type": "string"
            },
            "text/plain": [
              "'y'"
            ]
          },
          "metadata": {
            "tags": []
          },
          "execution_count": 62
        }
      ]
    },
    {
      "cell_type": "code",
      "metadata": {
        "id": "ISH7Pq5t53nk",
        "colab": {
          "base_uri": "https://localhost:8080/",
          "height": 35
        },
        "outputId": "0ee3ea9a-3760-477c-f66a-a7f852860601"
      },
      "source": [
        "t[-4]"
      ],
      "execution_count": 63,
      "outputs": [
        {
          "output_type": "execute_result",
          "data": {
            "application/vnd.google.colaboratory.intrinsic+json": {
              "type": "string"
            },
            "text/plain": [
              "'e'"
            ]
          },
          "metadata": {
            "tags": []
          },
          "execution_count": 63
        }
      ]
    },
    {
      "cell_type": "code",
      "metadata": {
        "id": "WK2OYM5F56gz",
        "colab": {
          "base_uri": "https://localhost:8080/",
          "height": 35
        },
        "outputId": "348063dc-3271-44ca-a663-d5b1a8a8e5ff"
      },
      "source": [
        "t[6]"
      ],
      "execution_count": 64,
      "outputs": [
        {
          "output_type": "execute_result",
          "data": {
            "application/vnd.google.colaboratory.intrinsic+json": {
              "type": "string"
            },
            "text/plain": [
              "' '"
            ]
          },
          "metadata": {
            "tags": []
          },
          "execution_count": 64
        }
      ]
    },
    {
      "cell_type": "markdown",
      "metadata": {
        "id": "ACxjsD3m6B_i"
      },
      "source": [
        "## จบ 5 มค 2021"
      ]
    },
    {
      "cell_type": "code",
      "metadata": {
        "id": "4DqvY1nQkB3b",
        "outputId": "afa6a15e-4a64-4245-bb2b-5edfcfd7f914",
        "colab": {
          "base_uri": "https://localhost:8080/"
        }
      },
      "source": [
        "len(t)"
      ],
      "execution_count": 65,
      "outputs": [
        {
          "output_type": "execute_result",
          "data": {
            "text/plain": [
              "14"
            ]
          },
          "metadata": {
            "tags": []
          },
          "execution_count": 65
        }
      ]
    },
    {
      "cell_type": "code",
      "metadata": {
        "id": "cRdb_z4XkUWS",
        "outputId": "e7f87805-a9ef-44f5-ca64-570ef93e9215",
        "colab": {
          "base_uri": "https://localhost:8080/"
        }
      },
      "source": [
        "list_b # len คือคำสั่งตรวจสอบความยาวของ list (จำนวนสมาชิก)"
      ],
      "execution_count": 66,
      "outputs": [
        {
          "output_type": "execute_result",
          "data": {
            "text/plain": [
              "[111, 'c', 'งง', 1092, 'u']"
            ]
          },
          "metadata": {
            "tags": []
          },
          "execution_count": 66
        }
      ]
    },
    {
      "cell_type": "code",
      "metadata": {
        "id": "URAgLMBUk_hS",
        "outputId": "9f845a19-e5b8-42a5-eee1-0db60d9bc1b1",
        "colab": {
          "base_uri": "https://localhost:8080/",
          "height": 35
        }
      },
      "source": [
        "t[-4]"
      ],
      "execution_count": 67,
      "outputs": [
        {
          "output_type": "execute_result",
          "data": {
            "application/vnd.google.colaboratory.intrinsic+json": {
              "type": "string"
            },
            "text/plain": [
              "'e'"
            ]
          },
          "metadata": {
            "tags": []
          },
          "execution_count": 67
        }
      ]
    },
    {
      "cell_type": "code",
      "metadata": {
        "id": "hLJaVamCl8QU",
        "outputId": "6d083b18-3269-42c4-bdf2-4de7def30f6b",
        "colab": {
          "base_uri": "https://localhost:8080/"
        }
      },
      "source": [
        "print(t)\r\n",
        "print(t[7:9])\r\n",
        "print(len(t[7:9]))\r\n"
      ],
      "execution_count": 70,
      "outputs": [
        {
          "output_type": "stream",
          "text": [
            "python is easy\n",
            "is\n",
            "2\n"
          ],
          "name": "stdout"
        }
      ]
    },
    {
      "cell_type": "code",
      "metadata": {
        "id": "w8du3noEnpI4",
        "outputId": "16986e96-54ab-4b17-ca08-2dc9c504d3d5",
        "colab": {
          "base_uri": "https://localhost:8080/",
          "height": 35
        }
      },
      "source": [
        "t[0:14:2]"
      ],
      "execution_count": 71,
      "outputs": [
        {
          "output_type": "execute_result",
          "data": {
            "application/vnd.google.colaboratory.intrinsic+json": {
              "type": "string"
            },
            "text/plain": [
              "'pto ses'"
            ]
          },
          "metadata": {
            "tags": []
          },
          "execution_count": 71
        }
      ]
    },
    {
      "cell_type": "code",
      "metadata": {
        "id": "U1vqkuwKoO4x"
      },
      "source": [
        "z=[1,2,3,4,5,6,7,8,9,10]"
      ],
      "execution_count": 72,
      "outputs": []
    },
    {
      "cell_type": "code",
      "metadata": {
        "id": "iv9x23_eovjX",
        "outputId": "3c2699df-2572-404d-eecf-3beb3032a38d",
        "colab": {
          "base_uri": "https://localhost:8080/"
        }
      },
      "source": [
        "z[1:10:2]"
      ],
      "execution_count": 75,
      "outputs": [
        {
          "output_type": "execute_result",
          "data": {
            "text/plain": [
              "[2, 4, 6, 8, 10]"
            ]
          },
          "metadata": {
            "tags": []
          },
          "execution_count": 75
        }
      ]
    },
    {
      "cell_type": "markdown",
      "metadata": {
        "id": "_aa_HWYmpTOt"
      },
      "source": [
        "\r\n",
        "ถ้าเว้นว่างหน้า : หมายความว่า เริ่มตั้งแต่ตัวแรก  (0)\r\n",
        "\r\n",
        "ถ้าเว้นว่างหลัง : หมายความว่า ไปจนถึงตัวสุดท้าย"
      ]
    },
    {
      "cell_type": "code",
      "metadata": {
        "id": "vxTElaZuo9bl",
        "outputId": "b7583ccd-a4ce-43c3-c5b5-ae6e19374c58",
        "colab": {
          "base_uri": "https://localhost:8080/"
        }
      },
      "source": [
        "print(t)\r\n",
        "print(t[:6])\r\n",
        "print(t[10:])\r\n",
        "print(t[-4:])\r\n",
        "print(t[:])"
      ],
      "execution_count": 76,
      "outputs": [
        {
          "output_type": "stream",
          "text": [
            "python is easy\n",
            "python\n",
            "easy\n",
            "easy\n",
            "python is easy\n"
          ],
          "name": "stdout"
        }
      ]
    },
    {
      "cell_type": "markdown",
      "metadata": {
        "id": "P4onwECOr9ze"
      },
      "source": [
        "### เราสามารถเอา list มาต่อกันได้ด้วย +"
      ]
    },
    {
      "cell_type": "code",
      "metadata": {
        "id": "FX3RsO8pr2A5",
        "outputId": "b82d90ae-db9c-4040-cd1d-8687d7184dcb",
        "colab": {
          "base_uri": "https://localhost:8080/",
          "height": 35
        }
      },
      "source": [
        "t + '??'"
      ],
      "execution_count": 77,
      "outputs": [
        {
          "output_type": "execute_result",
          "data": {
            "application/vnd.google.colaboratory.intrinsic+json": {
              "type": "string"
            },
            "text/plain": [
              "'python is easy??'"
            ]
          },
          "metadata": {
            "tags": []
          },
          "execution_count": 77
        }
      ]
    },
    {
      "cell_type": "code",
      "metadata": {
        "id": "M8e3MIrAtWo0",
        "outputId": "e3f2fb20-60b8-4b4f-875a-e7a9a98d6f7a",
        "colab": {
          "base_uri": "https://localhost:8080/",
          "height": 162
        }
      },
      "source": [
        "t + list_b ## ไม่สามารถเอา list ปกติมาต่อกับ string ได้"
      ],
      "execution_count": 78,
      "outputs": [
        {
          "output_type": "error",
          "ename": "TypeError",
          "evalue": "ignored",
          "traceback": [
            "\u001b[0;31m---------------------------------------------------------------------------\u001b[0m",
            "\u001b[0;31mTypeError\u001b[0m                                 Traceback (most recent call last)",
            "\u001b[0;32m<ipython-input-78-8ceeb7529eac>\u001b[0m in \u001b[0;36m<module>\u001b[0;34m()\u001b[0m\n\u001b[0;32m----> 1\u001b[0;31m \u001b[0mt\u001b[0m \u001b[0;34m+\u001b[0m \u001b[0mlist_b\u001b[0m \u001b[0;31m## ไม่สามารถเอา list ปกติมาต่อกับ string ได้\u001b[0m\u001b[0;34m\u001b[0m\u001b[0;34m\u001b[0m\u001b[0m\n\u001b[0m",
            "\u001b[0;31mTypeError\u001b[0m: must be str, not list"
          ]
        }
      ]
    },
    {
      "cell_type": "markdown",
      "metadata": {
        "id": "ksODtTzzuCK3"
      },
      "source": [
        "### การแบ่ง string ตามสัญลักษณ์ที่กำหนด -> split string"
      ]
    },
    {
      "cell_type": "code",
      "metadata": {
        "id": "28BKvG1OuJ6y",
        "outputId": "f896d4f4-bc94-4185-e7bb-7f2b015db1ec",
        "colab": {
          "base_uri": "https://localhost:8080/",
          "height": 35
        }
      },
      "source": [
        "t"
      ],
      "execution_count": 80,
      "outputs": [
        {
          "output_type": "execute_result",
          "data": {
            "application/vnd.google.colaboratory.intrinsic+json": {
              "type": "string"
            },
            "text/plain": [
              "'python is easy'"
            ]
          },
          "metadata": {
            "tags": []
          },
          "execution_count": 80
        }
      ]
    },
    {
      "cell_type": "code",
      "metadata": {
        "id": "nOKQyENItwTk",
        "outputId": "292594ee-e2ca-4be0-d1e0-02af37d270e2",
        "colab": {
          "base_uri": "https://localhost:8080/"
        }
      },
      "source": [
        "t.split(' ')"
      ],
      "execution_count": 79,
      "outputs": [
        {
          "output_type": "execute_result",
          "data": {
            "text/plain": [
              "['python', 'is', 'easy']"
            ]
          },
          "metadata": {
            "tags": []
          },
          "execution_count": 79
        }
      ]
    },
    {
      "cell_type": "code",
      "metadata": {
        "id": "xdFWNXOfuITg"
      },
      "source": [
        "time = '12:30:15'"
      ],
      "execution_count": 81,
      "outputs": []
    },
    {
      "cell_type": "code",
      "metadata": {
        "id": "urxDlqsruyWJ",
        "outputId": "67635e1e-245b-4e5b-d867-5521c67d2bd5",
        "colab": {
          "base_uri": "https://localhost:8080/"
        }
      },
      "source": [
        "time.split(':')"
      ],
      "execution_count": 82,
      "outputs": [
        {
          "output_type": "execute_result",
          "data": {
            "text/plain": [
              "['12', '30', '15']"
            ]
          },
          "metadata": {
            "tags": []
          },
          "execution_count": 82
        }
      ]
    },
    {
      "cell_type": "code",
      "metadata": {
        "id": "aKsD77QHu9DD",
        "outputId": "ef2c4e47-2b91-4104-edbb-b62e4c8f9ad2",
        "colab": {
          "base_uri": "https://localhost:8080/"
        }
      },
      "source": [
        "\r\n",
        "t_sp = t.split(' ')\r\n",
        "print(t_sp)\r\n",
        "\r\n",
        "## วิธีรวมกลับ\r\n",
        "\r\n",
        "print(':'.join(t_sp))"
      ],
      "execution_count": 83,
      "outputs": [
        {
          "output_type": "stream",
          "text": [
            "['python', 'is', 'easy']\n",
            "python:is:easy\n"
          ],
          "name": "stdout"
        }
      ]
    },
    {
      "cell_type": "code",
      "metadata": {
        "id": "OvhTOQuAv1gf"
      },
      "source": [
        ""
      ],
      "execution_count": null,
      "outputs": []
    }
  ]
}