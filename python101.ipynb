{
  "nbformat": 4,
  "nbformat_minor": 0,
  "metadata": {
    "colab": {
      "name": "python101.ipynb",
      "provenance": [],
      "include_colab_link": true
    },
    "kernelspec": {
      "name": "python3",
      "display_name": "Python 3"
    }
  },
  "cells": [
    {
      "cell_type": "markdown",
      "metadata": {
        "id": "view-in-github",
        "colab_type": "text"
      },
      "source": [
        "<a href=\"https://colab.research.google.com/github/Chonthichasi/multivariate/blob/main/python101.ipynb\" target=\"_parent\"><img src=\"https://colab.research.google.com/assets/colab-badge.svg\" alt=\"Open In Colab\"/></a>"
      ]
    },
    {
      "cell_type": "markdown",
      "metadata": {
        "id": "4nmHMZz1kseO"
      },
      "source": [
        "ตัวแปร variable"
      ]
    },
    {
      "cell_type": "markdown",
      "metadata": {
        "id": "hf41EVKaMmi2"
      },
      "source": [
        "หลักการตั้งชื่อให้ตัวแปลเบื้องต้น\r\n",
        "1.ตั้งให้สื่อ\r\n",
        "2.ภาษาอังกฤษ\r\n",
        "3.ใช้ตัวเลขได้แต่ต้องไม่ขึ้นชื่อด้วยตัวเลข\r\n",
        "4.ห้ามเว้นวรรค\r\n",
        "5.พิมพ์เล็กใหญ่ไม่เหมือนกัน\r\n",
        "\r\n",
        "มี output 2 mode : ออกหน้าจอ กับ เข้าไปเก็บในตัวแปร"
      ]
    },
    {
      "cell_type": "code",
      "metadata": {
        "colab": {
          "base_uri": "https://localhost:8080/"
        },
        "id": "40x3UrAzOEej",
        "outputId": "be2b9bc9-9e2a-4cb8-db85-241ff516b86e"
      },
      "source": [
        "3.14159 #hastagหรือshap # คือ comment  >>> อันนี้คือ output ที่ออกหน้าจอ (ถ้าเกิดมันออกจากหน้าจอมันก็จะไม่ถูกเก็บไว้ที่ไหนก็จะใช้ต่อไม่ได้ ต้องพิมพ์อีกครั้งนึง)"
      ],
      "execution_count": 1,
      "outputs": [
        {
          "output_type": "execute_result",
          "data": {
            "text/plain": [
              "3.14159"
            ]
          },
          "metadata": {
            "tags": []
          },
          "execution_count": 1
        }
      ]
    },
    {
      "cell_type": "code",
      "metadata": {
        "id": "thr6AcduOp0q"
      },
      "source": [
        "Pi= 3.14159 # อันนี้คือ output ที่เข้าไปอยู่ในตัวแปร (สามารถเอาค่า Pi มาแสดงได้ ค่าจะอยู่ใน Pi ตลอดไปถ้าไม่เปลี่ยนค่ามัน )"
      ],
      "execution_count": 2,
      "outputs": []
    },
    {
      "cell_type": "code",
      "metadata": {
        "colab": {
          "base_uri": "https://localhost:8080/"
        },
        "id": "7J6hTImxO872",
        "outputId": "02ad460b-40da-45c3-c58c-d5d3e832c034"
      },
      "source": [
        "Pi"
      ],
      "execution_count": 3,
      "outputs": [
        {
          "output_type": "execute_result",
          "data": {
            "text/plain": [
              "3.14159"
            ]
          },
          "metadata": {
            "tags": []
          },
          "execution_count": 3
        }
      ]
    },
    {
      "cell_type": "code",
      "metadata": {
        "colab": {
          "base_uri": "https://localhost:8080/"
        },
        "id": "iMnBjCGwO_1A",
        "outputId": "75993aff-b6a0-46f2-f901-746646da8ada"
      },
      "source": [
        "a=123456 # ใน cell สามารถมีได้หลายคำสั่งหากอยากโชว์ค่า a ใช้คำสั่ง print ซึ่งใน cell นี้ทำ 2 อย่าง 1.ตั้งตัวแปรชื่อ a แล้วเอาเลข 1234567 ใส่ในตัวแปร a  2. ให้แสดงผลค่า a โดยคำสั่ง print\r\n",
        "print(a)"
      ],
      "execution_count": 4,
      "outputs": [
        {
          "output_type": "stream",
          "text": [
            "123456\n"
          ],
          "name": "stdout"
        }
      ]
    },
    {
      "cell_type": "markdown",
      "metadata": {
        "id": "bbX2cPUhPOUy"
      },
      "source": [
        "#ชนิดของตัวแปล 3ชนิด \r\n",
        "จำนวนเต็ม (integer,int)"
      ]
    },
    {
      "cell_type": "code",
      "metadata": {
        "colab": {
          "base_uri": "https://localhost:8080/"
        },
        "id": "K8OpaVkcPCSS",
        "outputId": "3614fbbc-e9d3-4f9a-87b2-4113336c5075"
      },
      "source": [
        "aaa=1092  # ตัวแปรที่เป็นจำนวนเต็ม(int)\r\n",
        "print(aaa)"
      ],
      "execution_count": 5,
      "outputs": [
        {
          "output_type": "stream",
          "text": [
            "1092\n"
          ],
          "name": "stdout"
        }
      ]
    },
    {
      "cell_type": "markdown",
      "metadata": {
        "id": "M60RTZSwPq8v"
      },
      "source": [
        "#จำนวนจริง (float)"
      ]
    },
    {
      "cell_type": "code",
      "metadata": {
        "colab": {
          "base_uri": "https://localhost:8080/"
        },
        "id": "nOC5lM2KPgXQ",
        "outputId": "31d3c1b5-a385-4008-9182-677455299cd7"
      },
      "source": [
        "bbb=11.  # วิธีการสร้าง float เมื่อเรามี \".\" มันก็คือจำนวนจริง\r\n",
        "print(bbb)"
      ],
      "execution_count": 6,
      "outputs": [
        {
          "output_type": "stream",
          "text": [
            "11.0\n"
          ],
          "name": "stdout"
        }
      ]
    },
    {
      "cell_type": "markdown",
      "metadata": {
        "id": "yvITbAu7QVb5"
      },
      "source": [
        "#ตัวอักษร-ข้อความ(charecter และ text,string)"
      ]
    },
    {
      "cell_type": "code",
      "metadata": {
        "colab": {
          "base_uri": "https://localhost:8080/"
        },
        "id": "Tz8wbSu0QL_E",
        "outputId": "cb11155b-c4c2-425a-8a46-9749d3fad858"
      },
      "source": [
        "ccc='123456'  # เราใช้ single quote ' หรือ double quote \" ล้อมรอบตัวหนังสือเพื่อระบุว่าเป็น character-string เป็นตัวอักษรใช้บวกลบคูณหารไม่ได้\r\n",
        "print(ccc)  # ตัว string ต้องมี code ล้อมรอบเพราะตัวแปรก็เป็นตัวอักษรเหมือนกันจะ"
      ],
      "execution_count": 7,
      "outputs": [
        {
          "output_type": "stream",
          "text": [
            "123456\n"
          ],
          "name": "stdout"
        }
      ]
    },
    {
      "cell_type": "code",
      "metadata": {
        "colab": {
          "base_uri": "https://localhost:8080/"
        },
        "id": "NKyujS3yQv-w",
        "outputId": "4ef6db3c-41d3-48d5-dd01-46a5322311ce"
      },
      "source": [
        "aaa+bbb  #float+int =float"
      ],
      "execution_count": 8,
      "outputs": [
        {
          "output_type": "execute_result",
          "data": {
            "text/plain": [
              "1103.0"
            ]
          },
          "metadata": {
            "tags": []
          },
          "execution_count": 8
        }
      ]
    },
    {
      "cell_type": "code",
      "metadata": {
        "colab": {
          "base_uri": "https://localhost:8080/",
          "height": 162
        },
        "id": "Ei2oNx83Q0DB",
        "outputId": "0c350040-3e1f-4a32-c900-2b8d7651a068"
      },
      "source": [
        "bbb+ccc  # ที่บวกไม่ได้เพราะว่ามันเป็นตัวแปรคนละชนิดกัน  (ให้ดูที่ TypeError บรรทัดล่างซึ่งเราสามารถนำไปเสิช google ได้)"
      ],
      "execution_count": 9,
      "outputs": [
        {
          "output_type": "error",
          "ename": "TypeError",
          "evalue": "ignored",
          "traceback": [
            "\u001b[0;31m---------------------------------------------------------------------------\u001b[0m",
            "\u001b[0;31mTypeError\u001b[0m                                 Traceback (most recent call last)",
            "\u001b[0;32m<ipython-input-9-b97bd46c032a>\u001b[0m in \u001b[0;36m<module>\u001b[0;34m()\u001b[0m\n\u001b[0;32m----> 1\u001b[0;31m \u001b[0mbbb\u001b[0m\u001b[0;34m+\u001b[0m\u001b[0mccc\u001b[0m  \u001b[0;31m# ที่บวกไม่ได้เพราะว่ามันเป็นตัวแปรคนละชนิดกัน  (ให้ดูที่ TypeError บรรทัดล่างซึ่งเราสามารถนำไปเสิช google ได้)\u001b[0m\u001b[0;34m\u001b[0m\u001b[0;34m\u001b[0m\u001b[0m\n\u001b[0m",
            "\u001b[0;31mTypeError\u001b[0m: unsupported operand type(s) for +: 'float' and 'str'"
          ]
        }
      ]
    },
    {
      "cell_type": "code",
      "metadata": {
        "colab": {
          "base_uri": "https://localhost:8080/"
        },
        "id": "eCbsHNUCQ6hp",
        "outputId": "f25d8025-dddc-4e81-b6a0-b3f033aafd70"
      },
      "source": [
        "ddd = ' ชลธิชา'  # ข้อดีคือข้อความสามารถพิมพ์ภาษาไทยได้\r\n",
        "print(ddd)"
      ],
      "execution_count": 19,
      "outputs": [
        {
          "output_type": "stream",
          "text": [
            " ชลธิชา\n"
          ],
          "name": "stdout"
        }
      ]
    },
    {
      "cell_type": "markdown",
      "metadata": {
        "id": "-Ixx33HbRc2H"
      },
      "source": [
        "#การเปลี่ยนชนิดของตัวแปร variable cating"
      ]
    },
    {
      "cell_type": "code",
      "metadata": {
        "colab": {
          "base_uri": "https://localhost:8080/"
        },
        "id": "aIpcuUNqRY0X",
        "outputId": "0face09b-52d5-41e4-e946-21f0441193a5"
      },
      "source": [
        "aaa + int(ccc)  # บังคับให้เป็นชนิดตัวแปรที่เราต้องการ เช่นให้เป็น int,float"
      ],
      "execution_count": 20,
      "outputs": [
        {
          "output_type": "execute_result",
          "data": {
            "text/plain": [
              "124548"
            ]
          },
          "metadata": {
            "tags": []
          },
          "execution_count": 20
        }
      ]
    },
    {
      "cell_type": "code",
      "metadata": {
        "colab": {
          "base_uri": "https://localhost:8080/"
        },
        "id": "Px-uudKmRxm3",
        "outputId": "4b862811-8518-4a10-adf1-0d5bc9121b96"
      },
      "source": [
        "aaa+float(ccc)  # float+int = float"
      ],
      "execution_count": 21,
      "outputs": [
        {
          "output_type": "execute_result",
          "data": {
            "text/plain": [
              "124548.0"
            ]
          },
          "metadata": {
            "tags": []
          },
          "execution_count": 21
        }
      ]
    },
    {
      "cell_type": "code",
      "metadata": {
        "colab": {
          "base_uri": "https://localhost:8080/",
          "height": 35
        },
        "id": "R0SJDlXXR2--",
        "outputId": "99e83be4-bcd3-4a11-d7e3-73d63d981a12"
      },
      "source": [
        "str(aaa)   # int สามารถเปลี่ยนกลับไปเป็นข้อความได้ (การพิมพ์แบบนี้ทำได้เฉพาะตัวโน้ตบุ๊คคล้ายๆ colab ถ้ารวบรวมเป็นไฟล์จริงๆหากพิมพ์คำสั่งนี้ใน code จะไม่ทำไรเลยมันเป็นแค่เรียกชื่อตัวแปรเฉยๆ)"
      ],
      "execution_count": 22,
      "outputs": [
        {
          "output_type": "execute_result",
          "data": {
            "application/vnd.google.colaboratory.intrinsic+json": {
              "type": "string"
            },
            "text/plain": [
              "'1092'"
            ]
          },
          "metadata": {
            "tags": []
          },
          "execution_count": 22
        }
      ]
    },
    {
      "cell_type": "markdown",
      "metadata": {
        "id": "cn8qQxdjS_gG"
      },
      "source": [
        "#การดำเนินการ Operation (Operators +,-,*,/)"
      ]
    },
    {
      "cell_type": "code",
      "metadata": {
        "colab": {
          "base_uri": "https://localhost:8080/",
          "height": 162
        },
        "id": "j23Embs5SbZy",
        "outputId": "e60f1814-2d81-4f2d-f83d-3291580c9d06"
      },
      "source": [
        "a+b  # error นี้บอกว่าตัวแปร b ไม่มีจึงบวกไม่ได้"
      ],
      "execution_count": 23,
      "outputs": [
        {
          "output_type": "error",
          "ename": "NameError",
          "evalue": "ignored",
          "traceback": [
            "\u001b[0;31m---------------------------------------------------------------------------\u001b[0m",
            "\u001b[0;31mNameError\u001b[0m                                 Traceback (most recent call last)",
            "\u001b[0;32m<ipython-input-23-072b564e842e>\u001b[0m in \u001b[0;36m<module>\u001b[0;34m()\u001b[0m\n\u001b[0;32m----> 1\u001b[0;31m \u001b[0ma\u001b[0m\u001b[0;34m+\u001b[0m\u001b[0mb\u001b[0m  \u001b[0;31m# error นี้บอกว่าตัวแปร b ไม่มีจึงบวกไม่ได้\u001b[0m\u001b[0;34m\u001b[0m\u001b[0;34m\u001b[0m\u001b[0m\n\u001b[0m",
            "\u001b[0;31mNameError\u001b[0m: name 'b' is not defined"
          ]
        }
      ]
    },
    {
      "cell_type": "code",
      "metadata": {
        "colab": {
          "base_uri": "https://localhost:8080/"
        },
        "id": "reiXNHAYSdrG",
        "outputId": "9d73f94b-d4a3-494f-a371-f926e5b4fb5d"
      },
      "source": [
        "aaa+bbb  # output โชว์ออกมาอย่างเดียวเอาไปใช้ต่อไม่ได้ หากจะนำเอาไปใช้ต่อต้องมีตัวแปรมารับ"
      ],
      "execution_count": 24,
      "outputs": [
        {
          "output_type": "execute_result",
          "data": {
            "text/plain": [
              "1103.0"
            ]
          },
          "metadata": {
            "tags": []
          },
          "execution_count": 24
        }
      ]
    },
    {
      "cell_type": "code",
      "metadata": {
        "colab": {
          "base_uri": "https://localhost:8080/"
        },
        "id": "SLUHN3-OTDpi",
        "outputId": "b4024bdc-e4f4-47bb-e442-be54594898df"
      },
      "source": [
        "aaa-bbb"
      ],
      "execution_count": 25,
      "outputs": [
        {
          "output_type": "execute_result",
          "data": {
            "text/plain": [
              "1081.0"
            ]
          },
          "metadata": {
            "tags": []
          },
          "execution_count": 25
        }
      ]
    },
    {
      "cell_type": "code",
      "metadata": {
        "id": "XA1e6ypETFaR"
      },
      "source": [
        "ab=aaa*bbb"
      ],
      "execution_count": 26,
      "outputs": []
    },
    {
      "cell_type": "code",
      "metadata": {
        "colab": {
          "base_uri": "https://localhost:8080/"
        },
        "id": "luXwI4msTWFV",
        "outputId": "5e67dccd-1622-489b-e662-fa890475918e"
      },
      "source": [
        "ab+int(ccc)"
      ],
      "execution_count": 27,
      "outputs": [
        {
          "output_type": "execute_result",
          "data": {
            "text/plain": [
              "135468.0"
            ]
          },
          "metadata": {
            "tags": []
          },
          "execution_count": 27
        }
      ]
    },
    {
      "cell_type": "markdown",
      "metadata": {
        "id": "zgaN3UCxTwWy"
      },
      "source": [
        "#% คือการหารเอาเศษเช่น5%3=2(ส่วนใหญ่ไว้เช็คว่าเป็นเลขคู่หรือคี่โดยการนำ2ไปหาร)"
      ]
    },
    {
      "cell_type": "code",
      "metadata": {
        "colab": {
          "base_uri": "https://localhost:8080/"
        },
        "id": "y9EXZs4bTshq",
        "outputId": "1ce0ec5a-4733-40c8-a11e-fe0b3f074992"
      },
      "source": [
        "5%3 # modulo คือหารเอาเศษ *จะได้ใช้บ่อย เช็คว่าเป็นตัวเลขคี่หรือคู่"
      ],
      "execution_count": 28,
      "outputs": [
        {
          "output_type": "execute_result",
          "data": {
            "text/plain": [
              "2"
            ]
          },
          "metadata": {
            "tags": []
          },
          "execution_count": 28
        }
      ]
    },
    {
      "cell_type": "code",
      "metadata": {
        "colab": {
          "base_uri": "https://localhost:8080/"
        },
        "id": "cAWIr8oVUcv5",
        "outputId": "661a1fc5-04f0-4b66-d19a-20ab418e9bde"
      },
      "source": [
        "7%3"
      ],
      "execution_count": 29,
      "outputs": [
        {
          "output_type": "execute_result",
          "data": {
            "text/plain": [
              "1"
            ]
          },
          "metadata": {
            "tags": []
          },
          "execution_count": 29
        }
      ]
    },
    {
      "cell_type": "markdown",
      "metadata": {
        "id": "hXT1CTdiUgHV"
      },
      "source": [
        "#คำสั่งprint แบบพิเศษ (การใช้ format string)"
      ]
    },
    {
      "cell_type": "code",
      "metadata": {
        "colab": {
          "base_uri": "https://localhost:8080/"
        },
        "id": "Xwwe8ElcUeNk",
        "outputId": "ea0adc2a-f3f1-4b27-8c77-ab944f5ac86c"
      },
      "source": [
        "print('ตัวแปร') #สิ่งที่อยู่ข้างในวงเล็บคือ ตัวแปร และ sting\r\n"
      ],
      "execution_count": 30,
      "outputs": [
        {
          "output_type": "stream",
          "text": [
            "ตัวแปร\n"
          ],
          "name": "stdout"
        }
      ]
    },
    {
      "cell_type": "code",
      "metadata": {
        "id": "YYi-oUTjVJ8j",
        "colab": {
          "base_uri": "https://localhost:8080/"
        },
        "outputId": "caec8774-3911-4d0a-d1fa-2265d6e3b883"
      },
      "source": [
        "print(f'% คือการหารเอาเศษเช่น 7%3= {7%3}') #เพิ่มf หน้า 'string' และใช้{}ใส่code\r\n",
        "% คือการหารเอาเศษ เช่น 7%3 = 1"
      ],
      "execution_count": 31,
      "outputs": [
        {
          "output_type": "stream",
          "text": [
            "% คือการหารเอาเศษเช่น 7%3= 1\n"
          ],
          "name": "stdout"
        },
        {
          "output_type": "stream",
          "text": [
            "UsageError: Line magic function `%ค` not found.\n"
          ],
          "name": "stderr"
        }
      ]
    },
    {
      "cell_type": "code",
      "metadata": {
        "id": "7_1GsBEh1sGH",
        "colab": {
          "base_uri": "https://localhost:8080/"
        },
        "outputId": "8e96a488-224e-4a65-bf8f-b01f0e62496d"
      },
      "source": [
        "print(f'% คือการหารเอาเศษ เช่น 7%3 = {7%3} \\\r\n",
        "    แต่\\n/ คือการหารปกติ เช่น 7/3 = {7/3}  \\\r\n",
        "    และ\\n// คือการหารเอาส่วน เช่น 7//3 = {7//3} \\\r\n",
        "    หรือ\\nใช้ int() เพื่อหารเอาส่วน เช่น int(7/3) = {int(7/3)}') # \\n คือการขึ้นบรรทัดใหม่ \\ ใช้ในการตัด code แต่ com จะไม่เห็น"
      ],
      "execution_count": 32,
      "outputs": [
        {
          "output_type": "stream",
          "text": [
            "% คือการหารเอาเศษ เช่น 7%3 = 1     แต่\n",
            "/ คือการหารปกติ เช่น 7/3 = 2.3333333333333335      และ\n",
            "// คือการหารเอาส่วน เช่น 7//3 = 2     หรือ\n",
            "ใช้ int() เพื่อหารเอาส่วน เช่น int(7/3) = 2\n"
          ],
          "name": "stdout"
        }
      ]
    },
    {
      "cell_type": "markdown",
      "metadata": {
        "id": "I2ZjIF2p0px9"
      },
      "source": [
        "#DATA STRUCTURE (โครงสร้างข้อมูล)"
      ]
    },
    {
      "cell_type": "code",
      "metadata": {
        "id": "2II_iOIx00C6",
        "colab": {
          "base_uri": "https://localhost:8080/"
        },
        "outputId": "9c99fb1d-8e67-418a-8f05-b4742de61471"
      },
      "source": [
        "[111,'c','งง',aaa]"
      ],
      "execution_count": 33,
      "outputs": [
        {
          "output_type": "execute_result",
          "data": {
            "text/plain": [
              "[111, 'c', 'งง', 1092]"
            ]
          },
          "metadata": {
            "tags": []
          },
          "execution_count": 33
        }
      ]
    },
    {
      "cell_type": "markdown",
      "metadata": {
        "id": "uheQ8mH315uM"
      },
      "source": [
        "### List คือ การเอาข้อมูลหลายๆตัวมาเรียงต่อกัน \r\n",
        "#### list สามารถสร้างได้ 2 แบบ ดังนี้"
      ]
    },
    {
      "cell_type": "markdown",
      "metadata": {
        "id": "1sZMSr4g2E_r"
      },
      "source": [
        "#### แบบที่1 > square brackets"
      ]
    },
    {
      "cell_type": "code",
      "metadata": {
        "id": "3WIZvNX_2GUU",
        "colab": {
          "base_uri": "https://localhost:8080/"
        },
        "outputId": "2513bb2b-f637-4055-d19b-4636682d57a5"
      },
      "source": [
        "list_a = [] #list ว่าง\r\n",
        "print(list_a)"
      ],
      "execution_count": 34,
      "outputs": [
        {
          "output_type": "stream",
          "text": [
            "[]\n"
          ],
          "name": "stdout"
        }
      ]
    },
    {
      "cell_type": "code",
      "metadata": {
        "id": "ark3ulVi2PL_",
        "colab": {
          "base_uri": "https://localhost:8080/"
        },
        "outputId": "e33e9f43-ee73-47ff-95d6-fa3d91e14392"
      },
      "source": [
        "list_b = [111,'c','งง',aaa] # สามารถจัดกรุ๊ปตัวแปรหลายๆตัวมาอยู่รวมกัน\r\n",
        "print(list_b)"
      ],
      "execution_count": 35,
      "outputs": [
        {
          "output_type": "stream",
          "text": [
            "[111, 'c', 'งง', 1092]\n"
          ],
          "name": "stdout"
        }
      ]
    },
    {
      "cell_type": "markdown",
      "metadata": {
        "id": "3ZiqzeKR3qhR"
      },
      "source": [
        "### ลำดับที่อยู่ใน list มีความสำคัญ (ลำดับใน list เริ่มจาก 0,1,2,...) "
      ]
    },
    {
      "cell_type": "code",
      "metadata": {
        "id": "NmHF09QS2SWE",
        "colab": {
          "base_uri": "https://localhost:8080/",
          "height": 35
        },
        "outputId": "1b81cfab-ee8c-439d-c88a-5b353aa88ad8"
      },
      "source": [
        "list_b[2]"
      ],
      "execution_count": 36,
      "outputs": [
        {
          "output_type": "execute_result",
          "data": {
            "application/vnd.google.colaboratory.intrinsic+json": {
              "type": "string"
            },
            "text/plain": [
              "'งง'"
            ]
          },
          "metadata": {
            "tags": []
          },
          "execution_count": 36
        }
      ]
    },
    {
      "cell_type": "markdown",
      "metadata": {
        "id": "SEvURujg5YM_"
      },
      "source": [
        "#### แบบที่2"
      ]
    },
    {
      "cell_type": "code",
      "metadata": {
        "id": "cGt8jHpr3vUA",
        "colab": {
          "base_uri": "https://localhost:8080/"
        },
        "outputId": "8d7b8627-a7fe-4100-abad-9ddb99ddc7c8"
      },
      "source": [
        "list_c = list()\r\n",
        "print(list_c)"
      ],
      "execution_count": 37,
      "outputs": [
        {
          "output_type": "stream",
          "text": [
            "[]\n"
          ],
          "name": "stdout"
        }
      ]
    },
    {
      "cell_type": "markdown",
      "metadata": {
        "id": "eJtodotn5fZp"
      },
      "source": [
        "## append() เพิ่มสมาชิกใน list"
      ]
    },
    {
      "cell_type": "code",
      "metadata": {
        "id": "3Mz8iPeG5bTD",
        "colab": {
          "base_uri": "https://localhost:8080/"
        },
        "outputId": "66884748-11e9-4113-dd0a-b9995e5b8c0e"
      },
      "source": [
        "list_b.append('u') # ความสำคัญของลำดับตัวที่อยู่ก่อนจะเป็น 0\r\n",
        "print(list_b)"
      ],
      "execution_count": 38,
      "outputs": [
        {
          "output_type": "stream",
          "text": [
            "[111, 'c', 'งง', 1092, 'u']\n"
          ],
          "name": "stdout"
        }
      ]
    },
    {
      "cell_type": "markdown",
      "metadata": {
        "id": "K2XKY33k5n9n"
      },
      "source": [
        "ตัวที่อยู่ในวงเล็บหลังจากตัวแปร list เรียกว่า index ใช้สำหรับชี้ข้อมูลใน list \r\n",
        "\r\n",
        "(ชี้จากข้างหน้า,ชี้จากข้างหลัง)\r\n",
        "\r\n",
        "0 คือสมาชิกตัวแรก , -1 คือสมาชิกตัวสุดท้าย"
      ]
    },
    {
      "cell_type": "code",
      "metadata": {
        "id": "ZcxSNfT55jQa",
        "colab": {
          "base_uri": "https://localhost:8080/",
          "height": 35
        },
        "outputId": "1542f41c-6071-43bb-c7cc-1c3850c199a9"
      },
      "source": [
        "list_b[-1]  "
      ],
      "execution_count": 39,
      "outputs": [
        {
          "output_type": "execute_result",
          "data": {
            "application/vnd.google.colaboratory.intrinsic+json": {
              "type": "string"
            },
            "text/plain": [
              "'u'"
            ]
          },
          "metadata": {
            "tags": []
          },
          "execution_count": 39
        }
      ]
    },
    {
      "cell_type": "markdown",
      "metadata": {
        "id": "xD2POQh35wx3"
      },
      "source": [
        "## String > list of characters"
      ]
    },
    {
      "cell_type": "code",
      "metadata": {
        "id": "Ep0J5DCR5sXK",
        "colab": {
          "base_uri": "https://localhost:8080/"
        },
        "outputId": "5b631b43-6d03-4ae4-ce24-6ef376bc1856"
      },
      "source": [
        "t = 'python is easy' # (ตัวแปร t) สามารถชี้ไปที่ตัวอักษรแต่ละตัวที่ list นี้ได้เช่นกัน\r\n",
        "print(t)"
      ],
      "execution_count": 40,
      "outputs": [
        {
          "output_type": "stream",
          "text": [
            "python is easy\n"
          ],
          "name": "stdout"
        }
      ]
    },
    {
      "cell_type": "code",
      "metadata": {
        "id": "JNbwBRPO50bE",
        "colab": {
          "base_uri": "https://localhost:8080/",
          "height": 35
        },
        "outputId": "639df81f-ed57-455e-89ad-32b5353c618b"
      },
      "source": [
        "t[1]"
      ],
      "execution_count": 41,
      "outputs": [
        {
          "output_type": "execute_result",
          "data": {
            "application/vnd.google.colaboratory.intrinsic+json": {
              "type": "string"
            },
            "text/plain": [
              "'y'"
            ]
          },
          "metadata": {
            "tags": []
          },
          "execution_count": 41
        }
      ]
    },
    {
      "cell_type": "code",
      "metadata": {
        "id": "ISH7Pq5t53nk",
        "colab": {
          "base_uri": "https://localhost:8080/",
          "height": 35
        },
        "outputId": "72c1f8a3-3cbf-426e-a7f6-0e789b87a1f8"
      },
      "source": [
        "t[-4]"
      ],
      "execution_count": 42,
      "outputs": [
        {
          "output_type": "execute_result",
          "data": {
            "application/vnd.google.colaboratory.intrinsic+json": {
              "type": "string"
            },
            "text/plain": [
              "'e'"
            ]
          },
          "metadata": {
            "tags": []
          },
          "execution_count": 42
        }
      ]
    },
    {
      "cell_type": "code",
      "metadata": {
        "id": "WK2OYM5F56gz",
        "colab": {
          "base_uri": "https://localhost:8080/",
          "height": 35
        },
        "outputId": "6965f18e-714e-437b-aaef-e06b797aaece"
      },
      "source": [
        "t[6]"
      ],
      "execution_count": 43,
      "outputs": [
        {
          "output_type": "execute_result",
          "data": {
            "application/vnd.google.colaboratory.intrinsic+json": {
              "type": "string"
            },
            "text/plain": [
              "' '"
            ]
          },
          "metadata": {
            "tags": []
          },
          "execution_count": 43
        }
      ]
    },
    {
      "cell_type": "markdown",
      "metadata": {
        "id": "ACxjsD3m6B_i"
      },
      "source": [
        "## จบ 5 มค 2021"
      ]
    },
    {
      "cell_type": "code",
      "metadata": {
        "id": "4DqvY1nQkB3b",
        "colab": {
          "base_uri": "https://localhost:8080/"
        },
        "outputId": "dc97634c-3a33-40a3-87f6-4c0dc4a0cd81"
      },
      "source": [
        "len(t)"
      ],
      "execution_count": 44,
      "outputs": [
        {
          "output_type": "execute_result",
          "data": {
            "text/plain": [
              "14"
            ]
          },
          "metadata": {
            "tags": []
          },
          "execution_count": 44
        }
      ]
    },
    {
      "cell_type": "code",
      "metadata": {
        "id": "cRdb_z4XkUWS",
        "colab": {
          "base_uri": "https://localhost:8080/"
        },
        "outputId": "f7887f27-2ea2-4b4d-f8c1-cbb13d67d735"
      },
      "source": [
        "list_b # len คือคำสั่งตรวจสอบความยาวของ list (จำนวนสมาชิก)"
      ],
      "execution_count": 45,
      "outputs": [
        {
          "output_type": "execute_result",
          "data": {
            "text/plain": [
              "[111, 'c', 'งง', 1092, 'u']"
            ]
          },
          "metadata": {
            "tags": []
          },
          "execution_count": 45
        }
      ]
    },
    {
      "cell_type": "code",
      "metadata": {
        "id": "URAgLMBUk_hS",
        "colab": {
          "base_uri": "https://localhost:8080/",
          "height": 35
        },
        "outputId": "91f5f3bd-20cb-4c2f-89d5-41d22db69dec"
      },
      "source": [
        "t[-4]"
      ],
      "execution_count": 46,
      "outputs": [
        {
          "output_type": "execute_result",
          "data": {
            "application/vnd.google.colaboratory.intrinsic+json": {
              "type": "string"
            },
            "text/plain": [
              "'e'"
            ]
          },
          "metadata": {
            "tags": []
          },
          "execution_count": 46
        }
      ]
    },
    {
      "cell_type": "code",
      "metadata": {
        "id": "hLJaVamCl8QU",
        "colab": {
          "base_uri": "https://localhost:8080/"
        },
        "outputId": "27b25146-865b-4428-e650-e42a533f05fd"
      },
      "source": [
        "print(t)\r\n",
        "print(t[7:9])\r\n",
        "print(len(t[7:9]))\r\n"
      ],
      "execution_count": 47,
      "outputs": [
        {
          "output_type": "stream",
          "text": [
            "python is easy\n",
            "is\n",
            "2\n"
          ],
          "name": "stdout"
        }
      ]
    },
    {
      "cell_type": "code",
      "metadata": {
        "id": "w8du3noEnpI4",
        "colab": {
          "base_uri": "https://localhost:8080/",
          "height": 35
        },
        "outputId": "daea6442-05ac-45a5-f1f8-8b40c0659dc8"
      },
      "source": [
        "t[0:14:2]"
      ],
      "execution_count": 48,
      "outputs": [
        {
          "output_type": "execute_result",
          "data": {
            "application/vnd.google.colaboratory.intrinsic+json": {
              "type": "string"
            },
            "text/plain": [
              "'pto ses'"
            ]
          },
          "metadata": {
            "tags": []
          },
          "execution_count": 48
        }
      ]
    },
    {
      "cell_type": "code",
      "metadata": {
        "id": "U1vqkuwKoO4x"
      },
      "source": [
        "z=[1,2,3,4,5,6,7,8,9,10]"
      ],
      "execution_count": 49,
      "outputs": []
    },
    {
      "cell_type": "code",
      "metadata": {
        "id": "iv9x23_eovjX",
        "colab": {
          "base_uri": "https://localhost:8080/"
        },
        "outputId": "1ea8c959-6299-4440-c20f-ba9981e97012"
      },
      "source": [
        "z[1:10:2]"
      ],
      "execution_count": 50,
      "outputs": [
        {
          "output_type": "execute_result",
          "data": {
            "text/plain": [
              "[2, 4, 6, 8, 10]"
            ]
          },
          "metadata": {
            "tags": []
          },
          "execution_count": 50
        }
      ]
    },
    {
      "cell_type": "markdown",
      "metadata": {
        "id": "_aa_HWYmpTOt"
      },
      "source": [
        "\r\n",
        "ถ้าเว้นว่างหน้า : หมายความว่า เริ่มตั้งแต่ตัวแรก  (0)\r\n",
        "\r\n",
        "ถ้าเว้นว่างหลัง : หมายความว่า ไปจนถึงตัวสุดท้าย"
      ]
    },
    {
      "cell_type": "code",
      "metadata": {
        "id": "vxTElaZuo9bl",
        "colab": {
          "base_uri": "https://localhost:8080/"
        },
        "outputId": "6011c5fb-32f6-43bc-8635-59a56072877e"
      },
      "source": [
        "print(t)\r\n",
        "print(t[:6])\r\n",
        "print(t[10:])\r\n",
        "print(t[-4:])\r\n",
        "print(t[:])"
      ],
      "execution_count": 51,
      "outputs": [
        {
          "output_type": "stream",
          "text": [
            "python is easy\n",
            "python\n",
            "easy\n",
            "easy\n",
            "python is easy\n"
          ],
          "name": "stdout"
        }
      ]
    },
    {
      "cell_type": "markdown",
      "metadata": {
        "id": "P4onwECOr9ze"
      },
      "source": [
        "### เราสามารถเอา list มาต่อกันได้ด้วย +"
      ]
    },
    {
      "cell_type": "code",
      "metadata": {
        "id": "FX3RsO8pr2A5",
        "colab": {
          "base_uri": "https://localhost:8080/",
          "height": 35
        },
        "outputId": "c1855783-9d25-45be-d012-9375df6ab4ac"
      },
      "source": [
        "t + '??'"
      ],
      "execution_count": 52,
      "outputs": [
        {
          "output_type": "execute_result",
          "data": {
            "application/vnd.google.colaboratory.intrinsic+json": {
              "type": "string"
            },
            "text/plain": [
              "'python is easy??'"
            ]
          },
          "metadata": {
            "tags": []
          },
          "execution_count": 52
        }
      ]
    },
    {
      "cell_type": "code",
      "metadata": {
        "id": "M8e3MIrAtWo0",
        "colab": {
          "base_uri": "https://localhost:8080/",
          "height": 178
        },
        "outputId": "f4e42455-f72f-4e83-ad32-3a0a7cf075d7"
      },
      "source": [
        "\r\n",
        "t + list_b ## ไม่สามารถเอา list ปกติมาต่อกับ string ได้"
      ],
      "execution_count": 53,
      "outputs": [
        {
          "output_type": "error",
          "ename": "TypeError",
          "evalue": "ignored",
          "traceback": [
            "\u001b[0;31m---------------------------------------------------------------------------\u001b[0m",
            "\u001b[0;31mTypeError\u001b[0m                                 Traceback (most recent call last)",
            "\u001b[0;32m<ipython-input-53-5b408d6ab48a>\u001b[0m in \u001b[0;36m<module>\u001b[0;34m()\u001b[0m\n\u001b[1;32m      1\u001b[0m \u001b[0;34m\u001b[0m\u001b[0m\n\u001b[0;32m----> 2\u001b[0;31m \u001b[0mt\u001b[0m \u001b[0;34m+\u001b[0m \u001b[0mlist_b\u001b[0m \u001b[0;31m## ไม่สามารถเอา list ปกติมาต่อกับ string ได้\u001b[0m\u001b[0;34m\u001b[0m\u001b[0;34m\u001b[0m\u001b[0m\n\u001b[0m",
            "\u001b[0;31mTypeError\u001b[0m: must be str, not list"
          ]
        }
      ]
    },
    {
      "cell_type": "markdown",
      "metadata": {
        "id": "ksODtTzzuCK3"
      },
      "source": [
        "### การแบ่ง string ตามสัญลักษณ์ที่กำหนด -> split string"
      ]
    },
    {
      "cell_type": "code",
      "metadata": {
        "id": "28BKvG1OuJ6y",
        "colab": {
          "base_uri": "https://localhost:8080/",
          "height": 35
        },
        "outputId": "995b01f0-0f27-49cc-a218-21317f03d3ca"
      },
      "source": [
        "t"
      ],
      "execution_count": 54,
      "outputs": [
        {
          "output_type": "execute_result",
          "data": {
            "application/vnd.google.colaboratory.intrinsic+json": {
              "type": "string"
            },
            "text/plain": [
              "'python is easy'"
            ]
          },
          "metadata": {
            "tags": []
          },
          "execution_count": 54
        }
      ]
    },
    {
      "cell_type": "code",
      "metadata": {
        "id": "nOKQyENItwTk",
        "colab": {
          "base_uri": "https://localhost:8080/"
        },
        "outputId": "93eaa2b5-1207-4646-9b72-155f21715410"
      },
      "source": [
        "t.split(' ')"
      ],
      "execution_count": 55,
      "outputs": [
        {
          "output_type": "execute_result",
          "data": {
            "text/plain": [
              "['python', 'is', 'easy']"
            ]
          },
          "metadata": {
            "tags": []
          },
          "execution_count": 55
        }
      ]
    },
    {
      "cell_type": "code",
      "metadata": {
        "id": "xdFWNXOfuITg"
      },
      "source": [
        "time = '12:30:15'"
      ],
      "execution_count": 56,
      "outputs": []
    },
    {
      "cell_type": "code",
      "metadata": {
        "id": "urxDlqsruyWJ",
        "colab": {
          "base_uri": "https://localhost:8080/"
        },
        "outputId": "093124f0-d401-47c2-8766-9121a985d9b5"
      },
      "source": [
        "time.split(':')"
      ],
      "execution_count": 57,
      "outputs": [
        {
          "output_type": "execute_result",
          "data": {
            "text/plain": [
              "['12', '30', '15']"
            ]
          },
          "metadata": {
            "tags": []
          },
          "execution_count": 57
        }
      ]
    },
    {
      "cell_type": "code",
      "metadata": {
        "id": "aKsD77QHu9DD",
        "colab": {
          "base_uri": "https://localhost:8080/"
        },
        "outputId": "cd8d14f6-7a88-4498-a26a-7a2cc319cc38"
      },
      "source": [
        "\r\n",
        "t_sp = t.split(' ')\r\n",
        "print(t_sp)\r\n",
        "\r\n",
        "## วิธีรวมกลับ\r\n",
        "\r\n",
        "print(':'.join(t_sp))"
      ],
      "execution_count": 58,
      "outputs": [
        {
          "output_type": "stream",
          "text": [
            "['python', 'is', 'easy']\n",
            "python:is:easy\n"
          ],
          "name": "stdout"
        }
      ]
    },
    {
      "cell_type": "code",
      "metadata": {
        "id": "OvhTOQuAv1gf",
        "outputId": "b6f4c8ea-4388-4513-da77-25d421e71d11",
        "colab": {
          "base_uri": "https://localhost:8080/"
        }
      },
      "source": [
        "t_sp = t.split(' ')\r\n",
        "print(t_sp)"
      ],
      "execution_count": 59,
      "outputs": [
        {
          "output_type": "stream",
          "text": [
            "['python', 'is', 'easy']\n"
          ],
          "name": "stdout"
        }
      ]
    },
    {
      "cell_type": "markdown",
      "metadata": {
        "id": "AS_Qr5ebb7cM"
      },
      "source": [
        "### HW คำนวณเวลาเป็นวินาทีของเวลาต่อไปนี้โดยใช้คำสั่ง split() ช่วย (print ออกมาให้สวยงาม)\r\n",
        "12:30:15\r\n",
        "\r\n",
        "13:41:07\r\n",
        "\r\n",
        "12:53:15\r\n",
        "\r\n",
        "00:59:25\r\n",
        "\r\n",
        "11:11:11\r\n",
        "\r\n",
        "16:06:09\r\n",
        "\r\n",
        "21:12:30\r\n",
        "\r\n",
        "10:06:15\r\n",
        "\r\n",
        "ตัวอย่าง > 00:01:10 = 70 วินาที\r\n",
        "\r\n",
        "ตัวอย่าง > 01:00:01 = 3601 วินาที"
      ]
    },
    {
      "cell_type": "code",
      "metadata": {
        "id": "T6H9jqLHbRL1",
        "outputId": "f4478364-9323-4726-849c-5dd6e7c75f21",
        "colab": {
          "base_uri": "https://localhost:8080/"
        }
      },
      "source": [
        "q1 = '12:30:15'\r\n",
        "q1.split(':')\r\n",
        "list_q1 = [12,30,15]\r\n",
        "h = list_q1[0]*3600\r\n",
        "m = list_q1[1]*60\r\n",
        "s = list_q1[2]\r\n",
        "q1 = h+m+s\r\n",
        "print(f'12:30:15 = {q1} วินาที ' )"
      ],
      "execution_count": 60,
      "outputs": [
        {
          "output_type": "stream",
          "text": [
            "12:30:15 = 45015 วินาที \n"
          ],
          "name": "stdout"
        }
      ]
    },
    {
      "cell_type": "code",
      "metadata": {
        "id": "90qFbVQEiiac",
        "outputId": "f419797a-99d9-4be3-a799-f5c5eb94d626",
        "colab": {
          "base_uri": "https://localhost:8080/"
        }
      },
      "source": [
        "q2 = '13:41:07'\r\n",
        "q2.split(':')\r\n",
        "list_q2 = [13,41,7]\r\n",
        "h = list_q2[0]*3600\r\n",
        "m = list_q2[1]*60\r\n",
        "s = list_q2[2]\r\n",
        "q2 = h+m+s\r\n",
        "print(f'13:41:07 = {q2} วินาที ' )"
      ],
      "execution_count": 61,
      "outputs": [
        {
          "output_type": "stream",
          "text": [
            "13:41:07 = 49267 วินาที \n"
          ],
          "name": "stdout"
        }
      ]
    },
    {
      "cell_type": "code",
      "metadata": {
        "id": "5z5lzxvoim6d",
        "outputId": "cff17808-21e9-44fd-9010-58ae5182315b",
        "colab": {
          "base_uri": "https://localhost:8080/"
        }
      },
      "source": [
        "q3 = '12:53:15'\r\n",
        "q3.split(':')\r\n",
        "list_q3 = [12,53,15]\r\n",
        "h = list_q3[0]*3600\r\n",
        "m = list_q3[1]*60\r\n",
        "s = list_q3[2]\r\n",
        "q3 = h+m+s\r\n",
        "print(f'12:53:15 = {q3} วินาที ' )"
      ],
      "execution_count": 62,
      "outputs": [
        {
          "output_type": "stream",
          "text": [
            "12:53:15 = 46395 วินาที \n"
          ],
          "name": "stdout"
        }
      ]
    },
    {
      "cell_type": "code",
      "metadata": {
        "id": "okOdpyBOiqjo",
        "outputId": "b7c27c73-10c5-4819-fe2f-a8335d138661",
        "colab": {
          "base_uri": "https://localhost:8080/"
        }
      },
      "source": [
        "q4 = '00:59:25'\r\n",
        "q4.split(':')\r\n",
        "list_q4 = [00,59,25]\r\n",
        "h = list_q4[0]*3600\r\n",
        "m = list_q4[1]*60\r\n",
        "s = list_q4[2]\r\n",
        "q4 = h+m+s\r\n",
        "print(f'00:59:25 = {q4} วินาที ' )"
      ],
      "execution_count": 63,
      "outputs": [
        {
          "output_type": "stream",
          "text": [
            "00:59:25 = 3565 วินาที \n"
          ],
          "name": "stdout"
        }
      ]
    },
    {
      "cell_type": "code",
      "metadata": {
        "id": "wfMDKXe8ivg0",
        "outputId": "6a7c3f2c-e2c2-4e69-e526-8e6b2e7300b9",
        "colab": {
          "base_uri": "https://localhost:8080/"
        }
      },
      "source": [
        "q5 = '11:11:11'\r\n",
        "q5.split(':')\r\n",
        "list_q5 = [11,11,11]\r\n",
        "h = list_q5[0]*3600\r\n",
        "m = list_q5[1]*60\r\n",
        "s = list_q5[2]\r\n",
        "q5 = h+m+s\r\n",
        "print(f'11:11:11 = {q5} วินาที ' )"
      ],
      "execution_count": 64,
      "outputs": [
        {
          "output_type": "stream",
          "text": [
            "11:11:11 = 40271 วินาที \n"
          ],
          "name": "stdout"
        }
      ]
    },
    {
      "cell_type": "code",
      "metadata": {
        "id": "yrnt4lQQi1nW",
        "outputId": "caaf8d39-9b74-4def-df08-c049b59be0f2",
        "colab": {
          "base_uri": "https://localhost:8080/"
        }
      },
      "source": [
        "q6 = '16:06:09'\r\n",
        "q6.split(':')\r\n",
        "list_q6 = [16,6,9]\r\n",
        "h = list_q6[0]*3600\r\n",
        "m = list_q6[1]*60\r\n",
        "s = list_q6[2]\r\n",
        "q6 = h+m+s\r\n",
        "print(f'16:06:09 = {q6} วินาที ' )"
      ],
      "execution_count": 65,
      "outputs": [
        {
          "output_type": "stream",
          "text": [
            "16:06:09 = 57969 วินาที \n"
          ],
          "name": "stdout"
        }
      ]
    },
    {
      "cell_type": "code",
      "metadata": {
        "id": "xWFuAvNTi7UQ",
        "outputId": "68db09a4-29fe-4043-a557-f50e4bb97fca",
        "colab": {
          "base_uri": "https://localhost:8080/"
        }
      },
      "source": [
        "q7 = '21:12:30'\r\n",
        "q7.split(':')\r\n",
        "list_q7 = [21,12,30]\r\n",
        "h = list_q7[0]*3600\r\n",
        "m = list_q7[1]*60\r\n",
        "s = list_q7[2]\r\n",
        "q7 = h+m+s\r\n",
        "print(f'21:12:30 = {q7} วินาที ' )"
      ],
      "execution_count": 66,
      "outputs": [
        {
          "output_type": "stream",
          "text": [
            "21:12:30 = 76350 วินาที \n"
          ],
          "name": "stdout"
        }
      ]
    },
    {
      "cell_type": "code",
      "metadata": {
        "id": "Dy7TWttCi_fd",
        "outputId": "3ce4961d-4e2e-4611-ea40-2e1ff1bc0794",
        "colab": {
          "base_uri": "https://localhost:8080/"
        }
      },
      "source": [
        "q8 = '10:06:15'\r\n",
        "q8.split(':')\r\n",
        "list_q8 = [10,6,15]\r\n",
        "h = list_q8[0]*3600\r\n",
        "m = list_q8[1]*60\r\n",
        "s = list_q8[2]\r\n",
        "q8 = h+m+s\r\n",
        "print(f'10:06:15 = {q8} วินาที ' )"
      ],
      "execution_count": 67,
      "outputs": [
        {
          "output_type": "stream",
          "text": [
            "10:06:15 = 36375 วินาที \n"
          ],
          "name": "stdout"
        }
      ]
    }
  ]
}