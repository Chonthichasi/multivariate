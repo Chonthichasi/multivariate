{
  "nbformat": 4,
  "nbformat_minor": 0,
  "metadata": {
    "colab": {
      "name": "Intro to Multivariate.ipynb",
      "provenance": [],
      "authorship_tag": "ABX9TyOeuKO/P+WSl0bBSBB9OGsT",
      "include_colab_link": true
    },
    "kernelspec": {
      "name": "python3",
      "display_name": "Python 3"
    }
  },
  "cells": [
    {
      "cell_type": "markdown",
      "metadata": {
        "id": "view-in-github",
        "colab_type": "text"
      },
      "source": [
        "<a href=\"https://colab.research.google.com/github/Chonthichasi/multivariate/blob/main/Intro_to_Multivariate.ipynb\" target=\"_parent\"><img src=\"https://colab.research.google.com/assets/colab-badge.svg\" alt=\"Open In Colab\"/></a>"
      ]
    },
    {
      "cell_type": "markdown",
      "metadata": {
        "id": "JPK-BgGSpFt2"
      },
      "source": [
        "ชลธิชา ศาลางาม ID 623020518-7"
      ]
    },
    {
      "cell_type": "code",
      "metadata": {
        "id": "xtR2TvFlt4mx",
        "colab": {
          "base_uri": "https://localhost:8080/"
        },
        "outputId": "828d0404-a303-490c-8f62-a284d7433640"
      },
      "source": [
        "print('ชลธิชา') #single quote (') ใช้ล้อมรอบข้อความ"
      ],
      "execution_count": null,
      "outputs": [
        {
          "output_type": "stream",
          "text": [
            "ชลธิชา\n"
          ],
          "name": "stdout"
        }
      ]
    }
  ]
}