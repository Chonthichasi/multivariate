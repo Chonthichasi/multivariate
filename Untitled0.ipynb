{
  "nbformat": 4,
  "nbformat_minor": 0,
  "metadata": {
    "colab": {
      "name": "Untitled0.ipynb",
      "provenance": [],
      "include_colab_link": true
    },
    "kernelspec": {
      "name": "python3",
      "display_name": "Python 3"
    }
  },
  "cells": [
    {
      "cell_type": "markdown",
      "metadata": {
        "id": "view-in-github",
        "colab_type": "text"
      },
      "source": [
        "<a href=\"https://colab.research.google.com/github/Chonthichasi/multivariate/blob/main/Untitled0.ipynb\" target=\"_parent\"><img src=\"https://colab.research.google.com/assets/colab-badge.svg\" alt=\"Open In Colab\"/></a>"
      ]
    },
    {
      "cell_type": "markdown",
      "metadata": {
        "id": "89zbeB0crhz1"
      },
      "source": [
        "#Function"
      ]
    },
    {
      "cell_type": "markdown",
      "metadata": {
        "id": "WysfL_uIsEvD"
      },
      "source": [
        "![identity-function-graph.png](data:image/png;base64,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)"
      ]
    },
    {
      "cell_type": "markdown",
      "metadata": {
        "id": "fSR_vCWkskB4"
      },
      "source": [
        "```python\r\n",
        "def function_name(_Input_):\r\n",
        "    do_something with _Input_ to produce _Output_\r\n",
        "    return _Output_\r\n",
        "```"
      ]
    },
    {
      "cell_type": "markdown",
      "metadata": {
        "id": "u3VqAQgbsoBb"
      },
      "source": [
        "function มีส่วนสำคัญทั้งหมด 4 ส่วน\r\n",
        "\r\n",
        "1. บอก python ว่าเราจะเขียนฟังก์ชั่น ชื่ออะไร def function_name(): (ขาดไม่ได้)\r\n",
        "2. กำหนดตัวแปรที่จะเป็น input Input (ขาดได้)\r\n",
        "3. ส่วนประมวลผล do_something with Input to get Output (ขาดไม่ได้)\r\n",
        "4. ส่วน output return Output(ขาดได้)\r\n",
        "\r\n",
        "เราใช้ เว้นวรรค (indent) เพื่อบอกขอบเขตของ code"
      ]
    },
    {
      "cell_type": "markdown",
      "metadata": {
        "id": "1C0q8fats9LI"
      },
      "source": [
        "#สร้างฟังก์ชั่น"
      ]
    },
    {
      "cell_type": "code",
      "metadata": {
        "colab": {
          "base_uri": "https://localhost:8080/"
        },
        "id": "q6wCvO6KrHhE",
        "outputId": "1ebca4df-1375-4d1e-8cfc-b91b51078053"
      },
      "source": [
        "def print_name(name,surname,ID):\r\n",
        "    st = f'ชื่อ {name} นามสกุล {surname} ID {ID}'\r\n",
        "    return st\r\n",
        "print('outside function')"
      ],
      "execution_count": null,
      "outputs": [
        {
          "output_type": "stream",
          "text": [
            "outside function\n"
          ],
          "name": "stdout"
        }
      ]
    },
    {
      "cell_type": "markdown",
      "metadata": {
        "id": "AzWMvyNptHb4"
      },
      "source": [
        "การเรียกใช้ฟังก์ชั่น"
      ]
    },
    {
      "cell_type": "code",
      "metadata": {
        "colab": {
          "base_uri": "https://localhost:8080/",
          "height": 35
        },
        "id": "mbOnXpBatDIE",
        "outputId": "88fe5e3b-6cb4-42f2-a7e3-ad7e71b86077"
      },
      "source": [
        "print_name('ชลธิชา', 'ศาลางาม', '623020518-7')"
      ],
      "execution_count": null,
      "outputs": [
        {
          "output_type": "execute_result",
          "data": {
            "application/vnd.google.colaboratory.intrinsic+json": {
              "type": "string"
            },
            "text/plain": [
              "'ชื่อ ชลธิชา นามสกุล ศาลางาม ID 623020518-7'"
            ]
          },
          "metadata": {
            "tags": []
          },
          "execution_count": 3
        }
      ]
    },
    {
      "cell_type": "code",
      "metadata": {
        "colab": {
          "base_uri": "https://localhost:8080/"
        },
        "id": "D0ZxOpzmtg8w",
        "outputId": "98346d90-a8c8-4b05-f345-d6757e8138be"
      },
      "source": [
        "output_string = print_name('ชลธิชา', 'ศาลางาม', '623020518-7')\r\n",
        "print(output_string)"
      ],
      "execution_count": null,
      "outputs": [
        {
          "output_type": "stream",
          "text": [
            "ชื่อ ชลธิชา นามสกุล ศาลางาม ID 623020518-7\n"
          ],
          "name": "stdout"
        }
      ]
    },
    {
      "cell_type": "markdown",
      "metadata": {
        "id": "48159GULtwUV"
      },
      "source": [
        "ฟังก์ชั่นไม่จำเป็นต้องมี output"
      ]
    },
    {
      "cell_type": "code",
      "metadata": {
        "id": "pWLzaajNtr7s"
      },
      "source": [
        "def print_name2(surname,ID,name):\r\n",
        "    st = f'ชื่อ {name} นามสกุล {surname} รหัส {ID}'\r\n",
        "    print(st)"
      ],
      "execution_count": null,
      "outputs": []
    },
    {
      "cell_type": "code",
      "metadata": {
        "colab": {
          "base_uri": "https://localhost:8080/"
        },
        "id": "Ksp63xXst29S",
        "outputId": "401ae265-9434-4925-b267-50e76a170868"
      },
      "source": [
        "print_name2('ชลธิชา', 'ศาลางาม', '623020518-7')"
      ],
      "execution_count": null,
      "outputs": [
        {
          "output_type": "stream",
          "text": [
            "ชื่อ 623020518-7 นามสกุล ชลธิชา รหัส ศาลางาม\n"
          ],
          "name": "stdout"
        }
      ]
    },
    {
      "cell_type": "code",
      "metadata": {
        "colab": {
          "base_uri": "https://localhost:8080/"
        },
        "id": "VZMwfsqWuErc",
        "outputId": "7e8bc174-aae7-459f-d716-d84ed9604e47"
      },
      "source": [
        "op2 = print_name2('ชลธิชา', 'ศาลางาม', '623020518-7')"
      ],
      "execution_count": null,
      "outputs": [
        {
          "output_type": "stream",
          "text": [
            "ชื่อ 623020518-7 นามสกุล ชลธิชา รหัส ศาลางาม\n"
          ],
          "name": "stdout"
        }
      ]
    },
    {
      "cell_type": "code",
      "metadata": {
        "colab": {
          "base_uri": "https://localhost:8080/"
        },
        "id": "O9BO0OqguPn0",
        "outputId": "d708749a-1e11-4bf1-c171-fb1ee4838879"
      },
      "source": [
        "print(op2)"
      ],
      "execution_count": null,
      "outputs": [
        {
          "output_type": "stream",
          "text": [
            "None\n"
          ],
          "name": "stdout"
        }
      ]
    },
    {
      "cell_type": "markdown",
      "metadata": {
        "id": "0LKEbtBcuWdE"
      },
      "source": [
        "ฟังก์ชั่นไม่จำเป็นต้องมี input"
      ]
    },
    {
      "cell_type": "code",
      "metadata": {
        "id": "0KQ-3RHUutmC"
      },
      "source": [
        "def Pi():\r\n",
        "    return 3.14159265359"
      ],
      "execution_count": null,
      "outputs": []
    },
    {
      "cell_type": "code",
      "metadata": {
        "colab": {
          "base_uri": "https://localhost:8080/"
        },
        "id": "Kj1QdISyuxm8",
        "outputId": "c889002a-fefc-464f-a483-47460d50ba12"
      },
      "source": [
        "#คำนวณพื้นที่วงกลมที่มีขนาดเส้นผ่านศูนย์กลางเท่ากับ 3\r\n",
        "Pi()*(1.5**2)"
      ],
      "execution_count": null,
      "outputs": [
        {
          "output_type": "execute_result",
          "data": {
            "text/plain": [
              "7.0685834705775"
            ]
          },
          "metadata": {
            "tags": []
          },
          "execution_count": 10
        }
      ]
    },
    {
      "cell_type": "code",
      "metadata": {
        "id": "g8w-zY8Eu1ZA"
      },
      "source": [
        "def print_my_name():\r\n",
        "    print('ชลธิชา ศาลางาม IDxxxxxxx')"
      ],
      "execution_count": null,
      "outputs": []
    },
    {
      "cell_type": "code",
      "metadata": {
        "colab": {
          "base_uri": "https://localhost:8080/"
        },
        "id": "cxb_N33ru9ap",
        "outputId": "8becd376-3b09-4e73-c780-80a8826600b2"
      },
      "source": [
        "print_my_name()"
      ],
      "execution_count": null,
      "outputs": [
        {
          "output_type": "stream",
          "text": [
            "ชลธิชา ศาลางาม IDxxxxxxx\n"
          ],
          "name": "stdout"
        }
      ]
    },
    {
      "cell_type": "markdown",
      "metadata": {
        "id": "1_ywGXjLvDvH"
      },
      "source": [
        "### 1. input ของ function ใน python มีสองแบบ ```input ที่จำเป็นต้องใส่``` กับ ```input ที่ไม่จำเป็นต้องใส่ (มีค่า default)```\r\n",
        "\r\n",
        "### 2. เราต้องเรียง input ที่จำเป็นต้องใส่ขึ้นก่อน"
      ]
    },
    {
      "cell_type": "code",
      "metadata": {
        "id": "8FRCos9YvAW0"
      },
      "source": [
        "def print_2lines_default(name, surname, ID, grade='F'):\r\n",
        "    st = f'ชื่อ {name} นามสกุล {surname} รหัส {ID}'\r\n",
        "    print(st)\r\n",
        "    st2=f'เกรดวิชา Multivariate >>> {grade}'\r\n",
        "    print(st2)"
      ],
      "execution_count": null,
      "outputs": []
    },
    {
      "cell_type": "code",
      "metadata": {
        "colab": {
          "base_uri": "https://localhost:8080/"
        },
        "id": "Wgwnok5YvJB-",
        "outputId": "8b6f97fb-9132-4130-9dba-8033baf8835c"
      },
      "source": [
        "print_2lines_default('ชลธิชา', 'ศาลางาม', '623020518-7')"
      ],
      "execution_count": null,
      "outputs": [
        {
          "output_type": "stream",
          "text": [
            "ชื่อ ชลธิชา นามสกุล ศาลางาม รหัส 623020518-7\n",
            "เกรดวิชา Multivariate >>> F\n"
          ],
          "name": "stdout"
        }
      ]
    },
    {
      "cell_type": "code",
      "metadata": {
        "colab": {
          "base_uri": "https://localhost:8080/"
        },
        "id": "WNWpW2OHvZBe",
        "outputId": "32814836-ff59-4616-c534-bf7fb5828576"
      },
      "source": [
        "print_2lines_default('ชลธิชา', 'ศาลางาม', '623020518-7','A')"
      ],
      "execution_count": null,
      "outputs": [
        {
          "output_type": "stream",
          "text": [
            "ชื่อ ชลธิชา นามสกุล ศาลางาม รหัส 623020518-7\n",
            "เกรดวิชา Multivariate >>> A\n"
          ],
          "name": "stdout"
        }
      ]
    },
    {
      "cell_type": "markdown",
      "metadata": {
        "id": "ZgPqrIHVvp1b"
      },
      "source": [
        "เราสามารถเรียกฟังก์ชั่นโดยใช้ชื่อตัวแปรของฟังก์ชั่นช่วยได้"
      ]
    },
    {
      "cell_type": "code",
      "metadata": {
        "colab": {
          "base_uri": "https://localhost:8080/"
        },
        "id": "2zUJNbkZvkht",
        "outputId": "a5f26fe8-447c-4d98-e98b-09fb290bb17d"
      },
      "source": [
        "print_name2(name='ชลธิชา', surname='ศาลางาม', ID='623020518-7')"
      ],
      "execution_count": null,
      "outputs": [
        {
          "output_type": "stream",
          "text": [
            "ชื่อ ชลธิชา นามสกุล ศาลางาม รหัส 623020518-7\n"
          ],
          "name": "stdout"
        }
      ]
    },
    {
      "cell_type": "markdown",
      "metadata": {
        "id": "BBR3hM46v76f"
      },
      "source": [
        "###HW3 ให้เขียน function คำนวณจำนวนวินาทีจาก เวลาต่อไปนี้\r\n",
        "\r\n",
        "'14-15-31'\r\n",
        "\r\n",
        "'13-00-01'\r\n",
        "\r\n",
        "'05-49-44'\r\n",
        "\r\n",
        "'00-00-16'\r\n",
        "\r\n",
        "และ print ให้สวยงาม"
      ]
    },
    {
      "cell_type": "code",
      "metadata": {
        "id": "vY1US39nv3Re"
      },
      "source": [
        "def time(time):\r\n",
        "    tsp = time.split('-')\r\n",
        "    second = int(tsp[0]) * 3600 + int(tsp[1]) * 60 +int(tsp[2])\r\n",
        "    print(f'{time} คำนวณเป็นวินาทีได้ {second} วินาที ')"
      ],
      "execution_count": null,
      "outputs": []
    },
    {
      "cell_type": "code",
      "metadata": {
        "colab": {
          "base_uri": "https://localhost:8080/"
        },
        "id": "8IvKaeupwDpR",
        "outputId": "80f7bed0-43f0-4afb-f1e8-41dd37f2731a"
      },
      "source": [
        "time('14-15-31')"
      ],
      "execution_count": null,
      "outputs": [
        {
          "output_type": "stream",
          "text": [
            "14-15-31 คำนวณเป็นวินาทีได้ 51331 วินาที \n"
          ],
          "name": "stdout"
        }
      ]
    },
    {
      "cell_type": "code",
      "metadata": {
        "colab": {
          "base_uri": "https://localhost:8080/"
        },
        "id": "pM6PWud_wInQ",
        "outputId": "dd20ce6f-f457-4e60-f148-1fb91b24740b"
      },
      "source": [
        "time('13-00-01')"
      ],
      "execution_count": null,
      "outputs": [
        {
          "output_type": "stream",
          "text": [
            "13-00-01 คำนวณเป็นวินาทีได้ 46801 วินาที \n"
          ],
          "name": "stdout"
        }
      ]
    },
    {
      "cell_type": "code",
      "metadata": {
        "colab": {
          "base_uri": "https://localhost:8080/"
        },
        "id": "jjoCfuPfwLfW",
        "outputId": "e179b826-4b18-4df3-d677-a7bcbd3b1adc"
      },
      "source": [
        "time('05-49-44')"
      ],
      "execution_count": null,
      "outputs": [
        {
          "output_type": "stream",
          "text": [
            "05-49-44 คำนวณเป็นวินาทีได้ 20984 วินาที \n"
          ],
          "name": "stdout"
        }
      ]
    },
    {
      "cell_type": "code",
      "metadata": {
        "colab": {
          "base_uri": "https://localhost:8080/"
        },
        "id": "PA5YhN8SwObr",
        "outputId": "24666fa5-e112-4400-8b49-2997cff8876d"
      },
      "source": [
        "time('00-00-16')"
      ],
      "execution_count": null,
      "outputs": [
        {
          "output_type": "stream",
          "text": [
            "00-00-16 คำนวณเป็นวินาทีได้ 16 วินาที \n"
          ],
          "name": "stdout"
        }
      ]
    },
    {
      "cell_type": "markdown",
      "metadata": {
        "id": "0do-smAqZEwF"
      },
      "source": [
        "00-00-16 คำนวณเป็นวินาทีได้ 16 วินาที \r\n",
        "Numpy -> package สำหรับจัดการกับ Array ที่เป็นตัวเลข (Matrix)\r\n",
        "\r\n",
        "Num + py -> Number-Numerical + python\r\n",
        "\r\n",
        "การใช้ package\r\n",
        "\r\n",
        "1. import ชื่อ package #เรียกใช้ package\r\n",
        "2. ชื่อ package.ชื่อฟังก์ชั่น #เรียกใช้ function"
      ]
    },
    {
      "cell_type": "code",
      "metadata": {
        "id": "gFDZsplDwSO-"
      },
      "source": [
        "import numpy"
      ],
      "execution_count": null,
      "outputs": []
    },
    {
      "cell_type": "code",
      "metadata": {
        "id": "4HbD_eoJZY_P",
        "colab": {
          "base_uri": "https://localhost:8080/"
        },
        "outputId": "b8063e3d-6c13-41bb-dc3c-97a44572d6b1"
      },
      "source": [
        "mat_ex1 = numpy.array([[5.2,3.0,4.5],[9.1,0.1,0.3]])\r\n",
        "print(mat_ex1)"
      ],
      "execution_count": null,
      "outputs": [
        {
          "output_type": "stream",
          "text": [
            "[[5.2 3.  4.5]\n",
            " [9.1 0.1 0.3]]\n"
          ],
          "name": "stdout"
        }
      ]
    },
    {
      "cell_type": "markdown",
      "metadata": {
        "id": "nMMSW8DmaHi5"
      },
      "source": [
        "\r\n",
        "ชี้ค่าใน numpy array"
      ]
    },
    {
      "cell_type": "code",
      "metadata": {
        "id": "rlRlcHm5aCca",
        "colab": {
          "base_uri": "https://localhost:8080/"
        },
        "outputId": "acc6bf80-cbc0-432b-bd04-238d275db138"
      },
      "source": [
        "\r\n",
        "list_ex1 = [[5.2,3.0,4.5],[9.1,0.1,0.3]]\r\n",
        "print(list_ex1)"
      ],
      "execution_count": null,
      "outputs": [
        {
          "output_type": "stream",
          "text": [
            "[[5.2, 3.0, 4.5], [9.1, 0.1, 0.3]]\n"
          ],
          "name": "stdout"
        }
      ]
    },
    {
      "cell_type": "code",
      "metadata": {
        "id": "NMJAxt2iaLoB",
        "colab": {
          "base_uri": "https://localhost:8080/",
          "height": 162
        },
        "outputId": "346b5874-790e-40fc-ce6a-99ad6945410f"
      },
      "source": [
        "list_ex1[1,1]"
      ],
      "execution_count": null,
      "outputs": [
        {
          "output_type": "error",
          "ename": "TypeError",
          "evalue": "ignored",
          "traceback": [
            "\u001b[0;31m---------------------------------------------------------------------------\u001b[0m",
            "\u001b[0;31mTypeError\u001b[0m                                 Traceback (most recent call last)",
            "\u001b[0;32m<ipython-input-27-0fb0b321fd3a>\u001b[0m in \u001b[0;36m<module>\u001b[0;34m()\u001b[0m\n\u001b[0;32m----> 1\u001b[0;31m \u001b[0mlist_ex1\u001b[0m\u001b[0;34m[\u001b[0m\u001b[0;36m1\u001b[0m\u001b[0;34m,\u001b[0m\u001b[0;36m1\u001b[0m\u001b[0;34m]\u001b[0m\u001b[0;34m\u001b[0m\u001b[0;34m\u001b[0m\u001b[0m\n\u001b[0m",
            "\u001b[0;31mTypeError\u001b[0m: list indices must be integers or slices, not tuple"
          ]
        }
      ]
    },
    {
      "cell_type": "code",
      "metadata": {
        "id": "uXl5yNoMaO14",
        "colab": {
          "base_uri": "https://localhost:8080/"
        },
        "outputId": "d18b9f95-6c3a-4977-e188-189349b86699"
      },
      "source": [
        "list_ex1[1][1]"
      ],
      "execution_count": null,
      "outputs": [
        {
          "output_type": "execute_result",
          "data": {
            "text/plain": [
              "0.1"
            ]
          },
          "metadata": {
            "tags": []
          },
          "execution_count": 29
        }
      ]
    },
    {
      "cell_type": "code",
      "metadata": {
        "id": "D3-IODShaYy3",
        "colab": {
          "base_uri": "https://localhost:8080/"
        },
        "outputId": "b1cb7ded-0eb9-4317-9c8c-1ce326ca0fa0"
      },
      "source": [
        "print(list_ex1)\r\n",
        "a = list_ex1[1]\r\n",
        "print(a)\r\n",
        "print(a[1])"
      ],
      "execution_count": null,
      "outputs": [
        {
          "output_type": "stream",
          "text": [
            "[[5.2, 3.0, 4.5], [9.1, 0.1, 0.3]]\n",
            "[9.1, 0.1, 0.3]\n",
            "0.1\n"
          ],
          "name": "stdout"
        }
      ]
    },
    {
      "cell_type": "markdown",
      "metadata": {
        "id": "KeIIz2AlaeHq"
      },
      "source": [
        "\r\n",
        "Matrix Operations\r\n",
        "\r\n",
        "data 2 แบบ -> matrix (2D array), scalar (ตัวเลขค่าคงที่)\r\n",
        "\r\n"
      ]
    },
    {
      "cell_type": "code",
      "metadata": {
        "id": "3XKndZaxabi5",
        "colab": {
          "base_uri": "https://localhost:8080/"
        },
        "outputId": "4d1138e3-e0ca-4458-c49d-c1509e654a36"
      },
      "source": [
        "mat_ex1 = numpy.array([[5.2,3.0,4.5],[9.1,0.1,0.3]])\r\n",
        "print(mat_ex1)\r\n",
        "mat_ex2 = numpy.array([[2,3.7,5.9],[91,1.5,7.3]])\r\n",
        "print(mat_ex2)"
      ],
      "execution_count": null,
      "outputs": [
        {
          "output_type": "stream",
          "text": [
            "[[5.2 3.  4.5]\n",
            " [9.1 0.1 0.3]]\n",
            "[[ 2.   3.7  5.9]\n",
            " [91.   1.5  7.3]]\n"
          ],
          "name": "stdout"
        }
      ]
    },
    {
      "cell_type": "markdown",
      "metadata": {
        "id": "HxHEFOA3atwN"
      },
      "source": [
        "##บวกกับลบ matrix เอาตัวเลขตำแหน่งเดียวกันมาบวกหรือลบกัน\r\n",
        "(หน้าตาของ matrix ต้องเหมือนกัน)"
      ]
    },
    {
      "cell_type": "code",
      "metadata": {
        "id": "n0B7dkYtahNY",
        "colab": {
          "base_uri": "https://localhost:8080/"
        },
        "outputId": "be2797bd-4599-48f4-d24f-2fdbad5c06ac"
      },
      "source": [
        "mat_ex0 = numpy.array([[1,2],[3,4]])\r\n",
        "print(mat_ex0)"
      ],
      "execution_count": null,
      "outputs": [
        {
          "output_type": "stream",
          "text": [
            "[[1 2]\n",
            " [3 4]]\n"
          ],
          "name": "stdout"
        }
      ]
    },
    {
      "cell_type": "code",
      "metadata": {
        "id": "o27dIAC8a0oZ",
        "colab": {
          "base_uri": "https://localhost:8080/"
        },
        "outputId": "43032c11-ab10-4b6f-abcd-2e6c86f7b8b5"
      },
      "source": [
        "mat_ex3 = mat_ex1 + mat_ex2\r\n",
        "print(mat_ex3)\r\n",
        "mat_ex4 = mat_ex1 - mat_ex2\r\n",
        "print(mat_ex4)"
      ],
      "execution_count": null,
      "outputs": [
        {
          "output_type": "stream",
          "text": [
            "[[  7.2   6.7  10.4]\n",
            " [100.1   1.6   7.6]]\n",
            "[[  3.2  -0.7  -1.4]\n",
            " [-81.9  -1.4  -7. ]]\n"
          ],
          "name": "stdout"
        }
      ]
    },
    {
      "cell_type": "code",
      "metadata": {
        "id": "L2kpqKQaa4PZ",
        "colab": {
          "base_uri": "https://localhost:8080/",
          "height": 162
        },
        "outputId": "769d70e2-62bb-4983-c2a0-0b245af50871"
      },
      "source": [
        "mat_ex1 + mat_ex0"
      ],
      "execution_count": null,
      "outputs": [
        {
          "output_type": "error",
          "ename": "ValueError",
          "evalue": "ignored",
          "traceback": [
            "\u001b[0;31m---------------------------------------------------------------------------\u001b[0m",
            "\u001b[0;31mValueError\u001b[0m                                Traceback (most recent call last)",
            "\u001b[0;32m<ipython-input-34-806ad2057085>\u001b[0m in \u001b[0;36m<module>\u001b[0;34m()\u001b[0m\n\u001b[0;32m----> 1\u001b[0;31m \u001b[0mmat_ex1\u001b[0m \u001b[0;34m+\u001b[0m \u001b[0mmat_ex0\u001b[0m\u001b[0;34m\u001b[0m\u001b[0;34m\u001b[0m\u001b[0m\n\u001b[0m",
            "\u001b[0;31mValueError\u001b[0m: operands could not be broadcast together with shapes (2,3) (2,2) "
          ]
        }
      ]
    },
    {
      "cell_type": "code",
      "metadata": {
        "id": "IOaBylSma6nj",
        "colab": {
          "base_uri": "https://localhost:8080/"
        },
        "outputId": "3dee49a6-a28d-4536-b193-2aa4a1c4c437"
      },
      "source": [
        "mat_ex3.shape"
      ],
      "execution_count": null,
      "outputs": [
        {
          "output_type": "execute_result",
          "data": {
            "text/plain": [
              "(2, 3)"
            ]
          },
          "metadata": {
            "tags": []
          },
          "execution_count": 35
        }
      ]
    },
    {
      "cell_type": "code",
      "metadata": {
        "id": "I5ERetSYa9Ev",
        "colab": {
          "base_uri": "https://localhost:8080/"
        },
        "outputId": "69463519-e916-41d0-ac14-15526d390ab9"
      },
      "source": [
        "mat_ex3.shape[0]"
      ],
      "execution_count": null,
      "outputs": [
        {
          "output_type": "execute_result",
          "data": {
            "text/plain": [
              "2"
            ]
          },
          "metadata": {
            "tags": []
          },
          "execution_count": 36
        }
      ]
    },
    {
      "cell_type": "markdown",
      "metadata": {
        "id": "7I9E82-wbCM2"
      },
      "source": [
        "##คูณ matrix"
      ]
    },
    {
      "cell_type": "code",
      "metadata": {
        "id": "b-Og-pGna_V6",
        "colab": {
          "base_uri": "https://localhost:8080/"
        },
        "outputId": "8625d4eb-ff34-48e2-8f8f-a64086291e69"
      },
      "source": [
        "print(mat_ex1)\r\n",
        "print(mat_ex1.shape)\r\n",
        "print(mat_ex2)\r\n",
        "print(mat_ex2.shape)"
      ],
      "execution_count": null,
      "outputs": [
        {
          "output_type": "stream",
          "text": [
            "[[5.2 3.  4.5]\n",
            " [9.1 0.1 0.3]]\n",
            "(2, 3)\n",
            "[[ 2.   3.7  5.9]\n",
            " [91.   1.5  7.3]]\n",
            "(2, 3)\n"
          ],
          "name": "stdout"
        }
      ]
    },
    {
      "cell_type": "code",
      "metadata": {
        "id": "cvZcJQAdbKjI",
        "colab": {
          "base_uri": "https://localhost:8080/"
        },
        "outputId": "ffe37251-ad06-44c3-eda7-1fb163568a34"
      },
      "source": [
        "mat_ex1 * mat_ex2"
      ],
      "execution_count": null,
      "outputs": [
        {
          "output_type": "execute_result",
          "data": {
            "text/plain": [
              "array([[1.040e+01, 1.110e+01, 2.655e+01],\n",
              "       [8.281e+02, 1.500e-01, 2.190e+00]])"
            ]
          },
          "metadata": {
            "tags": []
          },
          "execution_count": 38
        }
      ]
    },
    {
      "cell_type": "markdown",
      "metadata": {
        "id": "UlbK6a1obV_X"
      },
      "source": [
        "##การคูณ matrix (แถวคูณหลัก)\r\n",
        "(หลักของ Matrix ตัวข้างหน้า ต้องเท่ากับแถวของ Matrix ตัวข้างหลัง)\r\n",
        "\r\n",
        "(AAA,x) . (x,ZZZ) = (AAA,ZZZ)"
      ]
    },
    {
      "cell_type": "markdown",
      "metadata": {
        "id": "EvfWRpV_4xEr"
      },
      "source": [
        "![matrix-multiply1.gif](data:image/gif;base64,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)"
      ]
    },
    {
      "cell_type": "code",
      "metadata": {
        "id": "NJZ-zi0Jba2k",
        "colab": {
          "base_uri": "https://localhost:8080/"
        },
        "outputId": "6a698be3-8a48-44e3-e275-8a09b960537d"
      },
      "source": [
        "print(mat_ex1)\r\n",
        "print(mat_ex1.shape)\r\n",
        "print(mat_ex2)\r\n",
        "print(mat_ex2.shape)"
      ],
      "execution_count": null,
      "outputs": [
        {
          "output_type": "stream",
          "text": [
            "[[5.2 3.  4.5]\n",
            " [9.1 0.1 0.3]]\n",
            "(2, 3)\n",
            "[[ 2.   3.7  5.9]\n",
            " [91.   1.5  7.3]]\n",
            "(2, 3)\n"
          ],
          "name": "stdout"
        }
      ]
    },
    {
      "cell_type": "markdown",
      "metadata": {
        "id": "4XGpophrbgJS"
      },
      "source": [
        "#Transpose กลับแถวเป็นหลักกลับหลักเป็นแถว\r\n",
        "matrix.T"
      ]
    },
    {
      "cell_type": "code",
      "metadata": {
        "id": "Y8nVgPHKbdKy",
        "colab": {
          "base_uri": "https://localhost:8080/"
        },
        "outputId": "add8e4d8-5d84-4976-ab69-44d736887017"
      },
      "source": [
        "print(mat_ex2)\r\n",
        "print(mat_ex2.shape)"
      ],
      "execution_count": null,
      "outputs": [
        {
          "output_type": "stream",
          "text": [
            "[[ 2.   3.7  5.9]\n",
            " [91.   1.5  7.3]]\n",
            "(2, 3)\n"
          ],
          "name": "stdout"
        }
      ]
    },
    {
      "cell_type": "code",
      "metadata": {
        "id": "sXlMAC2Cbm4_",
        "colab": {
          "base_uri": "https://localhost:8080/"
        },
        "outputId": "957b786e-19d9-423b-9d12-ff8111009525"
      },
      "source": [
        "print(mat_ex2.T)\r\n",
        "print(mat_ex2.T.shape)"
      ],
      "execution_count": null,
      "outputs": [
        {
          "output_type": "stream",
          "text": [
            "[[ 2.  91. ]\n",
            " [ 3.7  1.5]\n",
            " [ 5.9  7.3]]\n",
            "(3, 2)\n"
          ],
          "name": "stdout"
        }
      ]
    },
    {
      "cell_type": "code",
      "metadata": {
        "id": "d16XeKRsbpqc",
        "colab": {
          "base_uri": "https://localhost:8080/"
        },
        "outputId": "278c0cef-51ee-47d8-d9b7-8ebb3728cedd"
      },
      "source": [
        "numpy.dot(mat_ex1,mat_ex2.T) #(2,3).(3,2)"
      ],
      "execution_count": null,
      "outputs": [
        {
          "output_type": "execute_result",
          "data": {
            "text/plain": [
              "array([[ 48.05, 510.55],\n",
              "       [ 20.34, 830.44]])"
            ]
          },
          "metadata": {
            "tags": []
          },
          "execution_count": 43
        }
      ]
    },
    {
      "cell_type": "code",
      "metadata": {
        "id": "Iss_utPtbsOK",
        "colab": {
          "base_uri": "https://localhost:8080/"
        },
        "outputId": "270ee088-d207-4541-dad9-5ba4bae350c0"
      },
      "source": [
        "numpy.dot(mat_ex1.T,mat_ex2) #(3,2).(2,3) = (3,3)"
      ],
      "execution_count": null,
      "outputs": [
        {
          "output_type": "execute_result",
          "data": {
            "text/plain": [
              "array([[838.5 ,  32.89,  97.11],\n",
              "       [ 15.1 ,  11.25,  18.43],\n",
              "       [ 36.3 ,  17.1 ,  28.74]])"
            ]
          },
          "metadata": {
            "tags": []
          },
          "execution_count": 44
        }
      ]
    },
    {
      "cell_type": "markdown",
      "metadata": {
        "id": "MxqivblA4CeF"
      },
      "source": [
        "##HW4 อธิบายการหา Determinant และ Inverse matrix (รูป และ คำอธิบาย)"
      ]
    },
    {
      "cell_type": "markdown",
      "metadata": {
        "id": "20qQX-I74JWU"
      },
      "source": [
        "##การหา Determinant"
      ]
    },
    {
      "cell_type": "markdown",
      "metadata": {
        "id": "idQRVVmR4Pi2"
      },
      "source": [
        "Determinant คือ ค่าสเกลาร์ที่ได้จากเมทริกซ์จัตุรัสแทนด้วยสัญลักษณ์ det(A) หรือ |A| ซึ่งวิธีคำนวณหา determinant มีหลายวิธีดังนี้"
      ]
    },
    {
      "cell_type": "markdown",
      "metadata": {
        "id": "boLF5lNf5xDK"
      },
      "source": [
        "![1](https://image.slidesharecdn.com/matrix-140621224612-phpapp02/95/matrix-19-638.jpg?cb=1403390840)"
      ]
    },
    {
      "cell_type": "markdown",
      "metadata": {
        "id": "NsizvMP_6lPG"
      },
      "source": [
        "##การหา Inverse Matrix"
      ]
    },
    {
      "cell_type": "markdown",
      "metadata": {
        "id": "b1nTdm9F6qrs"
      },
      "source": [
        "![2](https://image.slidesharecdn.com/matrix-140621224612-phpapp02/95/matrix-24-638.jpg?cb=1403390840)"
      ]
    },
    {
      "cell_type": "markdown",
      "metadata": {
        "id": "GkTtlyCj9A8M"
      },
      "source": [
        "###การหา Inverse matrix โดยอาศัยเมทริกซ์ผูกพัน (Adjoint matrix)\r\n",
        "![3](https://image.slidesharecdn.com/matrix-140621224612-phpapp02/95/matrix-24-638.jpg?cb=1403390840)\r\n",
        "\r\n",
        "![4](https://images.slideplayer.in.th/11/2897659/slides/slide_25.jpg)"
      ]
    },
    {
      "cell_type": "markdown",
      "metadata": {
        "id": "PMqIls_8_4Cv"
      },
      "source": [
        "##การหา Inverse matrix โดยอาศัยการแปลงตามแนวแถว\r\n",
        "\r\n",
        "  ให้ A เป็นเมทริกซ์ขนาด nxn และ In เป็นเมทริกซ์เอกลักษณ์การแปลงตามแนวแถว คือการแปลงจากรูปแบบ [A|In] ให้อยู่ในรูป [In|A^(-1)] โดยใช้หลักการแปลงดังนี้\r\n",
        "  ![6](https://slideplayer.com/slide/13131188/79/images/29/Inverse+using+Elementary+Row+Operations+%28ERO%29.jpg)"
      ]
    }
  ]
}